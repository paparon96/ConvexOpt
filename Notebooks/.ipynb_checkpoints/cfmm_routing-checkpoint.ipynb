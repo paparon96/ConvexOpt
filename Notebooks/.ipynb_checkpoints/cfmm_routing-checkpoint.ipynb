{
 "cells": [
  {
   "cell_type": "markdown",
   "metadata": {
    "id": "S_4JKYWkCEOg"
   },
   "source": [
    "# Import packages"
   ]
  },
  {
   "cell_type": "code",
   "execution_count": 1,
   "metadata": {
    "executionInfo": {
     "elapsed": 10,
     "status": "ok",
     "timestamp": 1643149096741,
     "user": {
      "displayName": "Áron Pap",
      "photoUrl": "https://lh3.googleusercontent.com/a/default-user=s64",
      "userId": "01099565232668806024"
     },
     "user_tz": -60
    },
    "id": "X4JRlN4fCD51"
   },
   "outputs": [],
   "source": [
    "import numpy as np\n",
    "import cvxpy as cp\n",
    "import matplotlib.pyplot as plt"
   ]
  },
  {
   "cell_type": "markdown",
   "metadata": {
    "id": "fqBsOLyPCHzy"
   },
   "source": [
    "# Examples"
   ]
  },
  {
   "cell_type": "markdown",
   "metadata": {
    "id": "Fe-aTrjWCKUs"
   },
   "source": [
    "## Arbitrage"
   ]
  },
  {
   "cell_type": "code",
   "execution_count": 2,
   "metadata": {
    "colab": {
     "base_uri": "https://localhost:8080/"
    },
    "executionInfo": {
     "elapsed": 9,
     "status": "ok",
     "timestamp": 1643149096742,
     "user": {
      "displayName": "Áron Pap",
      "photoUrl": "https://lh3.googleusercontent.com/a/default-user=s64",
      "userId": "01099565232668806024"
     },
     "user_tz": -60
    },
    "id": "-H5_npYFUIdu",
    "outputId": "7e34ca1e-3c62-4a53-cae2-370437e033e4"
   },
   "outputs": [
    {
     "name": "stdout",
     "output_type": "stream",
     "text": [
      "Total output value: 21.499808771974788\n"
     ]
    }
   ],
   "source": [
    "# Problem data\n",
    "global_indices = list(range(4))\n",
    "local_indices = [\n",
    "    [0, 1, 2, 3],\n",
    "    [0, 1],\n",
    "    [1, 2],\n",
    "    [2, 3],\n",
    "    [2, 3]\n",
    "]\n",
    "\n",
    "reserves = list(map(np.array, [\n",
    "    [4, 4, 4, 4],\n",
    "    [10, 1],\n",
    "    [1, 5],\n",
    "    [40, 50],\n",
    "    [10, 10]\n",
    "]))\n",
    "\n",
    "fees = [\n",
    "    .998,\n",
    "    .997,\n",
    "    .997,\n",
    "    .997,\n",
    "    .999\n",
    "]\n",
    "\n",
    "# \"Market value\" of tokens (say, in a centralized exchange)\n",
    "market_value = [\n",
    "    1.5,\n",
    "    10,\n",
    "    2,\n",
    "    3\n",
    "] \n",
    "\n",
    "# Build local-global matrices\n",
    "n = len(global_indices)\n",
    "m = len(local_indices)\n",
    "\n",
    "A = []\n",
    "for l in local_indices:\n",
    "    n_i = len(l)\n",
    "    A_i = np.zeros((n, n_i))\n",
    "    for i, idx in enumerate(l):\n",
    "        A_i[idx, i] = 1\n",
    "    A.append(A_i)\n",
    "\n",
    "# Build variables\n",
    "deltas = [cp.Variable(len(l), nonneg=True) for l in local_indices]\n",
    "lambdas = [cp.Variable(len(l), nonneg=True) for l in local_indices]\n",
    "\n",
    "psi = cp.sum([A_i @ (L - D) for A_i, D, L in zip(A, deltas, lambdas)])\n",
    "\n",
    "# Objective is to maximize \"total market value\" of coins out\n",
    "obj = cp.Maximize(market_value @ psi)\n",
    "\n",
    "# Reserves after trade\n",
    "new_reserves = [R + gamma_i*D - L for R, gamma_i, D, L in zip(reserves, fees, deltas, lambdas)]\n",
    "\n",
    "# Trading function constraints\n",
    "cons = [\n",
    "    # Balancer pool with weights 4, 3, 2, 1\n",
    "    cp.geo_mean(new_reserves[0], p=np.array([4, 3, 2, 1])) >= cp.geo_mean(reserves[0]),\n",
    "\n",
    "    # Uniswap v2 pools\n",
    "    cp.geo_mean(new_reserves[1]) >= cp.geo_mean(reserves[1]),\n",
    "    cp.geo_mean(new_reserves[2]) >= cp.geo_mean(reserves[2]),\n",
    "    cp.geo_mean(new_reserves[3]) >= cp.geo_mean(reserves[3]),\n",
    "\n",
    "    # Constant sum pool\n",
    "    cp.sum(new_reserves[4]) >= cp.sum(reserves[4]),\n",
    "    new_reserves[4] >= 0,\n",
    "\n",
    "    # Arbitrage constraint\n",
    "    psi >= 0\n",
    "]\n",
    "\n",
    "# Set up and solve problem\n",
    "prob = cp.Problem(obj, cons)\n",
    "prob.solve()\n",
    "\n",
    "print(f\"Total output value: {prob.value}\")"
   ]
  },
  {
   "cell_type": "code",
   "execution_count": 3,
   "metadata": {
    "colab": {
     "base_uri": "https://localhost:8080/"
    },
    "executionInfo": {
     "elapsed": 288,
     "status": "ok",
     "timestamp": 1643149102490,
     "user": {
      "displayName": "Áron Pap",
      "photoUrl": "https://lh3.googleusercontent.com/a/default-user=s64",
      "userId": "01099565232668806024"
     },
     "user_tz": -60
    },
    "id": "rvX1fPPvGepN",
    "outputId": "7a0a8fea-0db0-4667-c3fe-04506f57c85d"
   },
   "outputs": [
    {
     "data": {
      "text/plain": [
       "[array([1.59401963e-07, 2.13554057e+00, 3.12578402e-07, 1.92837637e+00]),\n",
       " array([4.23352135e+00, 6.72270673e-08, 1.31094662e-01, 1.71098617e-07]),\n",
       " array([4.23352130e+00, 4.10023462e-08]),\n",
       " array([1.10998567e-07, 7.36369688e-01]),\n",
       " array([3.60275356e-08, 9.13422599e-01]),\n",
       " array([2.24190321e-01, 1.30069203e-07]),\n",
       " array([1.16197061e-07, 5.18901814e+00]),\n",
       " array([4.64585405e+00, 1.17086750e-07]),\n",
       " array([3.86352613e+00, 2.99731358e-07]),\n",
       " array([3.13497023e-07, 3.86739351e+00])]"
      ]
     },
     "execution_count": 3,
     "metadata": {},
     "output_type": "execute_result"
    }
   ],
   "source": [
    "[i.value for i in prob.variables()]"
   ]
  },
  {
   "cell_type": "markdown",
   "metadata": {
    "id": "mVUwQ4tUCSjN"
   },
   "source": [
    "## 2-assets"
   ]
  },
  {
   "cell_type": "code",
   "execution_count": 4,
   "metadata": {
    "colab": {
     "base_uri": "https://localhost:8080/",
     "height": 1000
    },
    "executionInfo": {
     "elapsed": 9478,
     "status": "ok",
     "timestamp": 1643149116859,
     "user": {
      "displayName": "Áron Pap",
      "photoUrl": "https://lh3.googleusercontent.com/a/default-user=s64",
      "userId": "01099565232668806024"
     },
     "user_tz": -60
    },
    "id": "pWdDHABOVGQn",
    "outputId": "389a0a54-4e03-49bb-a3db-ca669df75d58"
   },
   "outputs": [
    {
     "name": "stdout",
     "output_type": "stream",
     "text": [
      "Total liquidated value: 6.233000150678885\n",
      "Market 0, delta: [9.03252014e-08 2.01634351e-08 5.17289206e-02], lambda: [4.90459558e-02 1.38649989e-08 9.82289278e-08]\n",
      "Market 1, delta: [1.83646763e-07 8.86123159e-03], lambda: [8.69633116e-02 1.78539292e-08]\n",
      "Market 2, delta: [3.69003180e-09 9.31296432e-02], lambda: [8.86122333e-03 4.24538934e-08]\n",
      "Market 3, delta: [1.01360090e+01 6.04832148e-08], lambda: [5.34034356e-08 1.64788687e+01]\n",
      "Market 4, delta: [1.68378550e-07 1.01010103e+01], lambda: [1.00000001e+01 1.81611236e-07]\n",
      "Total liquidated value: 7.3149009824107125\n",
      "Market 0, delta: [2.23158253e-08 2.77842818e-09 6.77139081e-03], lambda: [6.60668283e-03 1.05803273e-08 2.14546990e-08]\n",
      "Market 1, delta: [6.00949506e-08 1.66232306e-08], lambda: [1.68789788e-07 5.77069602e-09]\n",
      "Market 2, delta: [1.25062789e-09 4.32721489e-08], lambda: [4.21444345e-09 1.38795384e-08]\n",
      "Market 3, delta: [1.10270149e+01 1.42033301e-08], lambda: [1.33676314e-08 1.74226825e+01]\n",
      "Market 4, delta: [4.17500792e-08 1.01010101e+01], lambda: [1.00000000e+01 4.25223876e-08]\n",
      "Total liquidated value: 8.348616697196883\n",
      "Market 0, delta: [1.98623927e-07 2.18437647e-08 6.79027323e-07], lambda: [5.34735056e-07 3.84667137e-08 1.81639119e-07]\n",
      "Market 1, delta: [5.00703211e-07 7.08837688e-08], lambda: [7.39635515e-07 4.72810426e-08]\n",
      "Market 2, delta: [1.08747708e-08 1.72887332e-07], lambda: [1.72387341e-08 1.20164846e-07]\n",
      "Market 3, delta: [1.13287592e+01 9.62449712e-08], lambda: [9.20299714e-08 1.77303772e+01]\n",
      "Market 4, delta: [2.91294173e-07 9.38176011e+00], lambda: [9.28794251e+00 2.90131341e-07]\n",
      "Total liquidated value: 9.379332008063756\n",
      "Market 0, delta: [1.75351085e-07 2.13113174e-08 6.78707734e-07], lambda: [6.35307688e-07 2.68866233e-08 1.68810778e-07]\n",
      "Market 1, delta: [5.11042577e-07 5.45909937e-08], lambda: [6.14343378e-07 4.46760886e-08]\n",
      "Market 2, delta: [1.04089871e-08 1.41412596e-07], lambda: [1.41801638e-08 1.10492591e-07]\n",
      "Market 3, delta: [1.13285645e+01 8.59899503e-08], lambda: [8.15301080e-08 1.77301805e+01]\n",
      "Market 4, delta: [2.62860386e-07 8.35084814e+00], lambda: [8.26733966e+00 2.60748131e-07]\n",
      "Total liquidated value: 10.41004731782018\n",
      "Market 0, delta: [7.16730424e-08 7.77527658e-09 3.69575469e-07], lambda: [2.81769116e-07 1.75830148e-08 6.28558994e-08]\n",
      "Market 1, delta: [2.09211283e-07 2.97141912e-08], lambda: [3.32924624e-07 1.75782976e-08]\n",
      "Market 2, delta: [4.24968503e-09 6.32565461e-08], lambda: [6.30804036e-09 4.62476558e-08]\n",
      "Market 3, delta: [1.13285615e+01 3.75336153e-08], lambda: [3.52614637e-08 1.77301774e+01]\n",
      "Market 4, delta: [1.15260574e-07 7.32012987e+00], lambda: [7.24692857e+00 1.13861205e-07]\n",
      "Total liquidated value: 11.44076264657141\n",
      "Market 0, delta: [1.55477829e-07 1.71137272e-08 1.13192613e-06], lambda: [8.55857203e-07 4.77480955e-08 1.28796330e-07]\n",
      "Market 1, delta: [5.86144359e-07 7.87354667e-08], lambda: [9.49012491e-07 4.28982747e-08]\n",
      "Market 2, delta: [1.04893343e-08 1.49090568e-07], lambda: [1.49969157e-08 1.12980452e-07]\n",
      "Market 3, delta: [1.13285470e+01 9.37408582e-08], lambda: [8.55783878e-08 1.77301628e+01]\n",
      "Market 4, delta: [2.93174789e-07 6.28939931e+00], lambda: [6.22650532e+00 2.85664132e-07]\n",
      "Total liquidated value: 12.471477990771335\n",
      "Market 0, delta: [4.03585827e-07 4.23081911e-08 2.70720530e-06], lambda: [2.03305024e-06 1.16624272e-07 3.46345223e-07]\n",
      "Market 1, delta: [1.43216535e-06 1.96547769e-07], lambda: [2.34513624e-06 1.06354272e-07]\n",
      "Market 2, delta: [2.51852698e-08 3.92530150e-07], lambda: [3.93307004e-08 2.70945214e-07]\n",
      "Market 3, delta: [1.13285329e+01 2.33333223e-07], lambda: [2.13011878e-07 1.77301486e+01]\n",
      "Market 4, delta: [7.20496608e-07 5.25866858e+00], lambda: [5.20608190e+00 7.03077141e-07]\n",
      "Total liquidated value: 13.502193303731893\n",
      "Market 0, delta: [3.71567418e-07 3.87435574e-08 2.44702890e-06], lambda: [1.81147454e-06 1.08506284e-07 3.20521179e-07]\n",
      "Market 1, delta: [1.24148843e-06 1.82278864e-07], lambda: [2.09578069e-06 9.79007235e-08]\n",
      "Market 2, delta: [2.30462695e-08 3.61412492e-07], lambda: [3.60859048e-08 2.48792583e-07]\n",
      "Market 3, delta: [1.13285237e+01 2.15070446e-07], lambda: [1.99171592e-07 1.77301393e+01]\n",
      "Market 4, delta: [6.50875951e-07 4.22794416e+00], lambda: [4.18566472e+00 6.40889834e-07]\n",
      "Total liquidated value: 14.532908597026381\n",
      "Market 0, delta: [3.12821299e-07 3.44260211e-08 1.02433374e-06], lambda: [8.09513089e-07 5.98173984e-08 2.86641370e-07]\n",
      "Market 1, delta: [7.64538811e-07 1.09684951e-07], lambda: [1.12770099e-06 7.42612830e-08]\n",
      "Market 2, delta: [1.67535925e-08 2.73919585e-07], lambda: [2.57136932e-08 1.90616924e-07]\n",
      "Market 3, delta: [1.13285539e+01 1.51090058e-07], lambda: [1.44998879e-07 1.77301697e+01]\n",
      "Market 4, delta: [4.4727491e-07 3.1972606e+00], lambda: [3.16528799e+00 4.47471226e-07]\n",
      "Total liquidated value: 15.563623906751538\n",
      "Market 0, delta: [6.08037844e-08 6.98222001e-09 2.12536590e-07], lambda: [1.71513997e-07 1.16051954e-08 5.68500405e-08]\n",
      "Market 1, delta: [1.49546954e-07 2.16668652e-08], lambda: [2.33584301e-07 1.49876608e-08]\n",
      "Market 2, delta: [3.37865887e-09 5.43244430e-08], lambda: [5.28239920e-09 3.77438587e-08]\n",
      "Market 3, delta: [1.13285520e+01 3.00994742e-08], lambda: [2.89508818e-08 1.77301678e+01]\n",
      "Market 4, delta: [8.5737657e-08 2.1665438e+00], lambda: [2.14487836e+00 8.55599963e-08]\n",
      "Total liquidated value: 16.59433922887436\n",
      "Market 0, delta: [2.29779389e-07 2.62537968e-08 8.50716927e-07], lambda: [6.80366909e-07 4.55666591e-08 2.14989423e-07]\n",
      "Market 1, delta: [5.84193728e-07 8.36634317e-08], lambda: [8.61886994e-07 5.65839080e-08]\n",
      "Market 2, delta: [1.30656855e-08 2.03383757e-07], lambda: [2.00472336e-08 1.41433559e-07]\n",
      "Market 3, delta: [1.13285219e+01 1.14397832e-07], lambda: [1.10471611e-07 1.77301375e+01]\n",
      "Market 4, delta: [3.19887601e-07 1.13579773e+00], lambda: [1.12443975e+00 3.15687477e-07]\n",
      "Total liquidated value: 17.62505453166775\n",
      "Market 0, delta: [1.33211464e-07 1.50581337e-08 1.05425447e-06], lambda: [7.57823089e-07 4.52038335e-08 1.26517304e-07]\n",
      "Market 1, delta: [3.86942635e-07 7.14605332e-08], lambda: [7.31573636e-07 3.74207311e-08]\n",
      "Market 2, delta: [1.03549600e-08 1.39054297e-07], lambda: [1.36777036e-08 1.11474043e-07]\n",
      "Market 3, delta: [1.13285045e+01 8.35319135e-08], lambda: [8.06985370e-08 1.77301199e+01]\n",
      "Market 4, delta: [2.58525191e-07 1.05064553e-01], lambda: [1.04013905e-01 2.57447643e-07]\n",
      "Total liquidated value: 18.640577612379015\n",
      "Market 0, delta: [6.61364398e-07 4.82225003e-08 2.06243676e-07], lambda: [2.31417004e-07 2.54721283e-08 8.70931069e-07]\n",
      "Market 1, delta: [8.91480664e-07 5.63828427e-08], lambda: [5.82850071e-07 8.78396839e-08]\n",
      "Market 2, delta: [2.18390767e-08 1.32439367e-07], lambda: [1.23331545e-08 2.32563612e-07]\n",
      "Market 3, delta: [1.16512621e+01 1.14309926e-07], lambda: [1.12378341e-07 1.80528781e+01]\n",
      "Market 4, delta: [5.93635560e-01 3.44497665e-07], lambda: [3.44100908e-07 5.87699199e-01]\n",
      "Total liquidated value: 19.650781692421436\n",
      "Market 0, delta: [6.89188283e-07 4.22417360e-08 1.81123415e-07], lambda: [1.96948981e-07 2.10395656e-08 8.90660898e-07]\n",
      "Market 1, delta: [7.24220706e-07 4.62788689e-08], lambda: [4.71584007e-07 7.19681447e-08]\n",
      "Market 2, delta: [1.53229423e-08 1.13222105e-07], lambda: [1.02011996e-08 1.69523188e-07]\n",
      "Market 3, delta: [1.16512621e+01 9.15909907e-08], lambda: [8.98056930e-08 1.80528781e+01]\n",
      "Market 4, delta: [1.61404363e+00 2.74029857e-07], lambda: [2.73732321e-07 1.59790319e+00]\n",
      "Total liquidated value: 20.66098576990672\n",
      "Market 0, delta: [5.10731905e-07 3.15423065e-08 1.33325853e-07], lambda: [1.44773789e-07 1.51669011e-08 6.66223016e-07]\n",
      "Market 1, delta: [5.28942935e-07 3.31410895e-08], lambda: [3.37997783e-07 5.25353725e-08]\n",
      "Market 2, delta: [1.07137792e-08 8.16474932e-08], lambda: [7.24352466e-09 1.20186183e-07]\n",
      "Market 3, delta: [1.16512566e+01 6.53405746e-08], lambda: [6.40926930e-08 1.80528727e+01]\n",
      "Market 4, delta: [2.63445738e+00 1.95533359e-07], lambda: [1.95372057e-07 2.60811280e+00]\n",
      "Total liquidated value: 21.671189880905413\n",
      "Market 0, delta: [1.54331992e-06 1.03353816e-07 5.13379215e-07], lambda: [5.53025287e-07 6.09250402e-08 1.94410975e-06]\n",
      "Market 1, delta: [1.88910761e-06 1.32042513e-07], lambda: [1.34920606e-06 1.87792567e-07]\n",
      "Market 2, delta: [4.36316065e-08 3.13113893e-07], lambda: [2.85873119e-08 4.77007971e-07]\n",
      "Market 3, delta: [1.16512584e+01 2.53197371e-07], lambda: [2.48210730e-07 1.80528744e+01]\n",
      "Market 4, delta: [3.65486356e+00 7.62266630e-07], lambda: [7.61982772e-07 3.61831491e+00]\n"
     ]
    },
    {
     "name": "stdout",
     "output_type": "stream",
     "text": [
      "Total liquidated value: 22.68139401015338\n",
      "Market 0, delta: [3.71101214e-07 1.80096908e-08 9.69137800e-08], lambda: [1.01969388e-07 1.22212468e-08 4.06815114e-07]\n",
      "Market 1, delta: [3.10703574e-07 2.56581932e-08], lambda: [3.25959458e-07 3.75114047e-08]\n",
      "Market 2, delta: [1.09038418e-08 6.53961084e-08], lambda: [4.88895334e-09 8.51376897e-08]\n",
      "Market 3, delta: [1.16512507e+01 5.21115049e-08], lambda: [5.13170327e-08 1.80528669e+01]\n",
      "Market 4, delta: [4.67527982e+00 1.54720913e-07], lambda: [1.54154989e-07 4.62852702e+00]\n",
      "Total liquidated value: 23.69159804601657\n",
      "Market 0, delta: [2.03744730e-06 1.27509231e-07 5.48036180e-07], lambda: [5.95156838e-07 6.79070703e-08 2.60371860e-06]\n",
      "Market 1, delta: [2.48178111e-06 1.47239358e-07], lambda: [1.60297886e-06 2.36785929e-07]\n",
      "Market 2, delta: [6.27822815e-08 3.22257007e-07], lambda: [3.07554934e-08 6.51505982e-07]\n",
      "Market 3, delta: [1.16512554e+01 3.03115600e-07], lambda: [2.99091246e-07 1.80528715e+01]\n",
      "Market 4, delta: [5.69568222e+00 8.98187063e-07], lambda: [8.92089818e-07 5.63872539e+00]\n",
      "Total liquidated value: 24.701802119549374\n",
      "Market 0, delta: [1.28784317e-06 8.85577108e-08 4.04807389e-07], lambda: [4.41002789e-07 4.84974949e-08 1.66337114e-06]\n",
      "Market 1, delta: [1.64314847e-06 1.05583546e-07], lambda: [1.10520240e-06 1.60936355e-07]\n",
      "Market 2, delta: [3.95217142e-08 2.44042078e-07], lambda: [2.28249863e-08 4.20974424e-07]\n",
      "Market 3, delta: [1.16512598e+01 2.10266515e-07], lambda: [2.06645848e-07 1.80528758e+01]\n",
      "Market 4, delta: [6.71608656e+00 6.30451124e-07], lambda: [6.28204867e-07 6.64892568e+00]\n",
      "Total liquidated value: 25.712006201761824\n",
      "Market 0, delta: [1.62007445e-06 9.06192288e-08 4.20454722e-07], lambda: [4.47725144e-07 5.19603342e-08 1.99016603e-06]\n",
      "Market 1, delta: [1.65923677e-06 1.11303436e-07], lambda: [1.16471713e-06 1.62186995e-07]\n",
      "Market 2, delta: [3.74488178e-08 2.56539175e-07], lambda: [2.37415376e-08 4.05472505e-07]\n",
      "Market 3, delta: [1.16512478e+01 2.14227099e-07], lambda: [2.10717221e-07 1.80528640e+01]\n",
      "Market 4, delta: [7.73650646e+00 6.41834452e-07], lambda: [6.38689779e-07 7.65914138e+00]\n",
      "Total liquidated value: 26.722210272532706\n",
      "Market 0, delta: [1.46015535e-06 9.45602187e-08 3.40724065e-07], lambda: [3.77248444e-07 3.86441068e-08 1.98806438e-06]\n",
      "Market 1, delta: [1.56230284e-06 8.59304826e-08], lambda: [9.03065426e-07 1.52583485e-07]\n",
      "Market 2, delta: [3.13087569e-08 2.08218371e-07], lambda: [1.93665575e-08 3.37770189e-07]\n",
      "Market 3, delta: [1.16512595e+01 1.79116991e-07], lambda: [1.76485042e-07 1.80528755e+01]\n",
      "Market 4, delta: [8.75690272e+00 5.34553204e-07], lambda: [5.30285534e-07 8.66933368e+00]\n",
      "Total liquidated value: 27.73241438653654\n",
      "Market 0, delta: [2.43064774e-06 1.75055800e-07 8.46644107e-07], lambda: [9.29062343e-07 1.00668528e-07 3.12483894e-06]\n",
      "Market 1, delta: [3.22182640e-06 2.21678287e-07], lambda: [2.26408245e-06 3.19342266e-07]\n",
      "Market 2, delta: [7.62838791e-08 5.32950913e-07], lambda: [5.01721359e-08 8.14726694e-07]\n",
      "Market 3, delta: [1.16512996e+01 4.34352368e-07], lambda: [4.25634727e-07 1.80529152e+01]\n",
      "Market 4, delta: [9.77727113e+00 1.30996401e-06], lambda: [1.30863158e-06 9.67949839e+00]\n",
      "Total liquidated value: 28.72841489444041\n",
      "Market 0, delta: [2.38607561e-02 4.82686544e-08 5.51417906e-08], lambda: [5.68925548e-08 6.07622112e-09 2.30241072e-02]\n",
      "Market 1, delta: [1.03237551e-03 1.12311623e-08], lambda: [1.15691302e-07 1.02194826e-04]\n",
      "Market 2, delta: [1.02144048e-04 2.73991346e-08], lambda: [2.40290332e-09 9.80496428e-04]\n",
      "Market 3, delta: [1.23230766e+01 3.66203335e-08], lambda: [3.73971199e-08 1.87044104e+01]\n",
      "Market 4, delta: [1.01010102e+01 1.10567723e-07], lambda: [1.15228650e-07 1.00000001e+01]\n",
      "Total liquidated value: 29.673500264372393\n",
      "Market 0, delta: [6.33304585e-02 4.95691841e-08 5.40978447e-07], lambda: [5.68089495e-07 5.31681327e-07 5.95773383e-02]\n",
      "Market 1, delta: [1.33743977e-01 1.10844748e-07], lambda: [1.19271500e-06 1.30676295e-02]\n",
      "Market 2, delta: [1.30680259e-02 2.37109599e-07], lambda: [2.28144955e-08 1.23898768e-01]\n",
      "Market 3, delta: [1.31713054e+01 3.44850307e-07], lambda: [3.72451318e-07 1.94900254e+01]\n",
      "Market 4, delta: [1.01010111e+01 1.03724937e-06], lambda: [1.13142431e-06 1.00000009e+01]\n",
      "Total liquidated value: 30.572332129675424\n",
      "Market 0, delta: [1.10627172e-01 6.28120361e-09 5.69938715e-08], lambda: [6.62713151e-08 1.06068340e-03 9.14148194e-02]\n",
      "Market 1, delta: [2.60769569e-01 1.23110446e-08], lambda: [1.32857486e-07 2.51664848e-02]\n",
      "Market 2, delta: [2.62271524e-02 2.69554677e-08], lambda: [2.50530809e-09 2.45597013e-01]\n",
      "Market 3, delta: [1.40173893e+01 3.72441285e-08], lambda: [4.21429083e-08 2.02353204e+01]\n",
      "Market 4, delta: [1.01010102e+01 1.12272838e-07], lambda: [1.29245483e-07 1.00000001e+01]\n",
      "Total liquidated value: 31.428340636110367\n",
      "Market 0, delta: [1.61737823e-01 6.28800708e-09 1.34132278e-07], lambda: [1.49931906e-07 2.61753570e-03 1.20243117e-01]\n",
      "Market 1, delta: [3.84943688e-01 2.61136311e-08], lambda: [3.32437418e-07 3.67104087e-02]\n",
      "Market 2, delta: [3.93279174e-02 5.45558027e-08], lambda: [4.90144528e-09 3.63812364e-01]\n",
      "Market 3, delta: [1.48625130e+01 6.74054327e-08], lambda: [8.05731506e-08 2.09442854e+01]\n",
      "Market 4, delta: [1.01010103e+01 2.01308877e-07], lambda: [2.43172440e-07 1.00000002e+01]\n",
      "Total liquidated value: 32.244514512308\n",
      "Market 0, delta: [2.12675994e-01 1.85153597e-09 6.09073687e-08], lambda: [5.35784649e-08 4.15532481e-03 1.47438832e-01]\n",
      "Market 1, delta: [5.09046430e-01 1.03787864e-08], lambda: [1.33170298e-07 4.79777292e-02]\n",
      "Market 2, delta: [5.21330453e-02 3.02396291e-08], lambda: [3.30518066e-09 4.76623329e-01]\n",
      "Market 3, delta: [1.57078800e+01 3.58308455e-08], lambda: [4.52889838e-08 2.16204525e+01]\n",
      "Market 4, delta: [1.01010102e+01 1.04786626e-07], lambda: [1.33627084e-07 1.00000001e+01]\n",
      "Total liquidated value: 33.02356292971777\n",
      "Market 0, delta: [2.63549152e-01 3.38496572e-09 1.12882325e-07], lambda: [9.01725809e-08 5.68328513e-03 1.73126810e-01]\n",
      "Market 1, delta: [6.33105458e-01 2.06227587e-08], lambda: [3.02988523e-07 5.89806774e-02]\n",
      "Market 2, delta: [6.46639458e-02 4.08317074e-08], lambda: [6.58395173e-09 5.84490248e-01]\n",
      "Market 3, delta: [1.65533562e+01 7.94326235e-08], lambda: [1.09012805e-07 2.22659461e+01]\n",
      "Market 4, delta: [1.01010104e+01 2.28986270e-07], lambda: [3.03654860e-07 1.00000002e+01]\n",
      "Total liquidated value: 33.7679553138324\n",
      "Market 0, delta: [3.14301185e-01 4.25016043e-09 1.20283044e-07], lambda: [1.26031110e-07 7.19249100e-03 1.97447694e-01]\n",
      "Market 1, delta: [7.56949310e-01 1.98552216e-08], lambda: [4.53939987e-07 6.97137543e-02]\n",
      "Market 2, delta: [7.69062285e-02 3.73017718e-08], lambda: [6.59602007e-09 6.87538811e-01]\n",
      "Market 3, delta: [1.73991687e+01 7.95277227e-08], lambda: [1.15856283e-07 2.28829691e+01]\n",
      "Market 4, delta: [1.01010105e+01 2.50189801e-07], lambda: [3.73290187e-07 1.00000002e+01]\n",
      "Total liquidated value: 34.479947346898854\n",
      "Market 0, delta: [3.64981929e-01 1.58173930e-09 7.11838821e-08], lambda: [9.10054427e-08 8.69073682e-03 2.20469812e-01]\n",
      "Market 1, delta: [8.80857468e-01 1.05769460e-08], lambda: [3.03625934e-07 8.02101562e-02]\n",
      "Market 2, delta: [8.89008849e-02 2.13795896e-08], lambda: [3.69960850e-09 7.86338549e-01]\n",
      "Market 3, delta: [1.82449877e+01 4.12856186e-08], lambda: [6.39008196e-08 2.34731391e+01]\n",
      "Market 4, delta: [1.01010103e+01 1.41388610e-07], lambda: [2.28186202e-07 1.00000001e+01]\n",
      "Total liquidated value: 35.16160356299976\n",
      "Market 0, delta: [4.15553651e-01 1.66961308e-09 7.76247392e-08], lambda: [1.06200160e-07 1.01717538e-02 2.42307652e-01]\n",
      "Market 1, delta: [1.00466310e+00 1.48667679e-08], lambda: [3.63514715e-07 9.04639389e-02]\n",
      "Market 2, delta: [1.00635682e-01 2.52597139e-08], lambda: [5.04889965e-09 8.80989883e-01]\n",
      "Market 3, delta: [1.90910186e+01 5.37824510e-08], lambda: [8.64134737e-08 2.40383062e+01]\n",
      "Market 4, delta: [1.01010104e+01 1.78370917e-07], lambda: [3.09207665e-07 1.00000002e+01]\n",
      "Total liquidated value: 35.81481707477573\n",
      "Market 0, delta: [4.66037789e-01 4.11604269e-09 1.49114006e-07], lambda: [2.13667950e-07 1.16366182e-02 2.63047892e-01]\n",
      "Market 1, delta: [1.12836170e+00 3.48467035e-08], lambda: [7.09745146e-07 1.00483045e-01]\n",
      "Market 2, delta: [1.12119635e-01 4.98795391e-08], lambda: [9.44166274e-09 9.71753901e-01]\n",
      "Market 3, delta: [1.99372446e+01 1.02741275e-07], lambda: [1.68978221e-07 2.45800156e+01]\n",
      "Market 4, delta: [1.01010107e+01 3.23839566e-07], lambda: [5.89195089e-07 1.00000003e+01]\n",
      "Total liquidated value: 36.44132698672363\n",
      "Market 0, delta: [5.16391689e-01 2.91005017e-08 2.27071651e-07], lambda: [3.65853518e-07 1.30812099e-02 2.82770383e-01]\n",
      "Market 1, delta: [1.25219974e+00 5.85321297e-08], lambda: [7.71298354e-07 1.10294776e-01]\n",
      "Market 2, delta: [1.23375913e-01 1.09692364e-07], lambda: [1.27500464e-08 1.05898203e+00]\n",
      "Market 3, delta: [2.07834611e+01 1.52268566e-07], lambda: [2.47729420e-07 2.50995751e+01]\n",
      "Market 4, delta: [1.01010109e+01 4.59776971e-07], lambda: [7.71126078e-07 1.00000004e+01]\n"
     ]
    },
    {
     "name": "stdout",
     "output_type": "stream",
     "text": [
      "Total liquidated value: 37.04273380721704\n",
      "Market 0, delta: [5.66730367e-01 5.91318158e-08 2.81445526e-07], lambda: [4.18614638e-07 1.45156814e-02 3.01534136e-01]\n",
      "Market 1, delta: [1.37561550e+00 7.66286635e-08], lambda: [1.02404206e-06 1.19862367e-01]\n",
      "Market 2, delta: [1.34377930e-01 1.06769464e-07], lambda: [1.55726273e-08 1.14262615e+00]\n",
      "Market 3, delta: [2.16301152e+01 1.86169465e-07], lambda: [3.21990291e-07 2.55985741e+01]\n",
      "Market 4, delta: [1.01010112e+01 5.52889650e-07], lambda: [1.06450801e-06 1.00000005e+01]\n",
      "Total liquidated value: 37.62051282691418\n",
      "Market 0, delta: [6.16935995e-01 1.05589677e-07 3.94388624e-07], lambda: [6.71658214e-07 1.59290896e-02 3.19414561e-01]\n",
      "Market 1, delta: [1.49917621e+00 1.05014986e-07], lambda: [1.34868753e-06 1.29237259e-01]\n",
      "Market 2, delta: [1.45166161e-01 1.53443138e-07], lambda: [2.05656061e-08 1.22313910e+00]\n",
      "Market 3, delta: [2.24767577e+01 2.38859875e-07], lambda: [4.22146368e-07 2.60779600e+01]\n",
      "Market 4, delta: [1.01010115e+01 7.00328200e-07], lambda: [1.35131384e-06 1.00000007e+01]\n",
      "Total liquidated value: 38.17602624123384\n",
      "Market 0, delta: [6.67144667e-01 9.08486574e-08 5.14463318e-07], lambda: [8.83299929e-07 1.73317223e-02 3.36467725e-01]\n",
      "Market 1, delta: [1.62259455e+00 1.49495120e-07], lambda: [1.45222601e-06 1.38404112e-01]\n",
      "Market 2, delta: [1.55735623e-01 1.94902803e-07], lambda: [2.70535807e-08 1.30061240e+00]\n",
      "Market 3, delta: [2.33235393e+01 3.07158544e-07], lambda: [5.56860710e-07 2.65389472e+01]\n",
      "Market 4, delta: [1.01010119e+01 8.57727722e-07], lambda: [1.76429150e-06 1.00000008e+01]\n",
      "Total liquidated value: 38.710533635588845\n",
      "Market 0, delta: [7.17239019e-01 2.54729691e-08 2.57919362e-07], lambda: [3.84530458e-07 1.87173671e-02 3.52727354e-01]\n",
      "Market 1, delta: [1.74606738e+00 6.16625481e-08], lambda: [4.32238484e-07 1.47383839e-01]\n",
      "Market 2, delta: [1.66101132e-01 8.76312191e-08], lambda: [1.19517928e-08 1.37527375e+00]\n",
      "Market 3, delta: [2.41703785e+01 1.39402176e-07], lambda: [2.73365995e-07 2.69825330e+01]\n",
      "Market 4, delta: [1.0101011e+01 4.2293519e-07], lambda: [9.15600080e-07 1.00000004e+01]\n",
      "Total liquidated value: 39.225201594373395\n",
      "Market 0, delta: [7.67247682e-01 8.17116394e-09 9.95212456e-08], lambda: [2.50076674e-07 2.00838265e-02 3.68274209e-01]\n",
      "Market 1, delta: [1.86961589e+00 1.50809554e-08], lambda: [3.91900059e-07 1.56183624e-01]\n",
      "Market 2, delta: [1.76267432e-01 3.21525276e-08], lambda: [4.44607687e-09 1.44726577e+00]\n",
      "Market 3, delta: [2.50172291e+01 3.71623436e-08], lambda: [7.85601199e-08 2.74096618e+01]\n",
      "Market 4, delta: [1.01010103e+01 1.19113853e-07], lambda: [2.23219065e-07 1.00000001e+01]\n",
      "Total liquidated value: 39.72111204445331\n",
      "Market 0, delta: [8.17211810e-01 2.92200094e-09 3.73670242e-08], lambda: [9.28688103e-08 2.14350312e-02 3.83145120e-01]\n",
      "Market 1, delta: [1.99293023e+00 5.25359087e-09], lambda: [1.37628031e-07 1.64787499e-01]\n",
      "Market 2, delta: [1.86222523e-01 1.21245928e-08], lambda: [1.51494397e-09 1.51660692e+00]\n",
      "Market 3, delta: [2.58643583e+01 1.30961343e-08], lambda: [2.91856181e-08 2.78213601e+01]\n",
      "Market 4, delta: [1.01010102e+01 4.12696886e-08], lambda: [7.97699955e-08 1.00000000e+01]\n",
      "Total liquidated value: 40.19926978980442\n",
      "Market 0, delta: [8.67133551e-01 2.62636195e-08 3.00103111e-07], lambda: [3.69798905e-07 2.27707199e-02 3.97383322e-01]\n",
      "Market 1, delta: [2.11627576e+00 7.78803533e-08], lambda: [4.41556033e-07 1.73219846e-01]\n",
      "Market 2, delta: [1.95990484e-01 1.36769709e-07], lambda: [2.06341228e-08 1.58356041e+00]\n",
      "Market 3, delta: [2.67115002e+01 1.70810045e-07], lambda: [4.45059138e-07 2.82183267e+01]\n",
      "Market 4, delta: [1.01010116e+01 5.70061705e-07], lambda: [1.47456692e-06 1.00000006e+01]\n",
      "Total liquidated value: 40.66060912444953\n",
      "Market 0, delta: [9.16928588e-01 3.02423287e-08 1.21830470e-07], lambda: [2.76117401e-07 2.40873840e-02 4.11011346e-01]\n",
      "Market 1, delta: [2.23950965e+00 3.63141396e-08], lambda: [6.01394644e-07 1.81476118e-01]\n",
      "Market 2, delta: [2.05563442e-01 4.41770036e-08], lambda: [6.19070450e-09 1.64815973e+00]\n",
      "Market 3, delta: [2.75588792e+01 6.93893583e-08], lambda: [1.68888074e-07 2.86014383e+01]\n",
      "Market 4, delta: [1.01010107e+01 2.27437251e-07], lambda: [5.63675123e-07 1.00000002e+01]\n",
      "Total liquidated value: 41.10600022988363\n",
      "Market 0, delta: [9.66644438e-01 1.10709079e-08 2.58927438e-07], lambda: [3.25916714e-07 2.53867859e-02 4.24076008e-01]\n",
      "Market 1, delta: [2.36273147e+00 4.82327868e-08], lambda: [4.12728859e-07 1.89568417e-01]\n",
      "Market 2, delta: [2.14955161e-01 1.01259884e-07], lambda: [1.62985302e-08 1.71057956e+00]\n",
      "Market 3, delta: [2.84063497e+01 1.12274501e-07], lambda: [3.14520613e-07 2.89713451e+01]\n",
      "Market 4, delta: [1.01010111e+01 3.76559593e-07], lambda: [9.87421411e-07 1.00000004e+01]\n",
      "Total liquidated value: 41.5362542209691\n",
      "Market 0, delta: [1.01639259e+00 1.04457093e-08 1.84962808e-07], lambda: [3.33737015e-07 2.66750907e-02 4.36616459e-01]\n",
      "Market 1, delta: [2.48583933e+00 2.30238931e-08], lambda: [4.39924766e-07 1.97494956e-01]\n",
      "Market 2, delta: [2.24170021e-01 4.93368388e-08], lambda: [7.04003163e-09 1.77092372e+00]\n",
      "Market 3, delta: [2.92539018e+01 5.64740660e-08], lambda: [1.62528008e-07 2.93287143e+01]\n",
      "Market 4, delta: [1.01010106e+01 1.98628190e-07], lambda: [4.60917548e-07 1.00000002e+01]\n",
      "Total liquidated value: 41.95212830864013\n",
      "Market 0, delta: [1.06607318e+00 1.60631071e-08 2.01103413e-07], lambda: [4.63821906e-07 2.79468030e-02 4.48656113e-01]\n",
      "Market 1, delta: [2.60890237e+00 2.51553340e-08], lambda: [5.78061084e-07 2.05265162e-01]\n",
      "Market 2, delta: [2.33211931e-01 4.89029720e-08], lambda: [6.67701158e-09 1.82928737e+00]\n",
      "Market 3, delta: [3.01015666e+01 6.24894418e-08], lambda: [1.81906665e-07 2.96741851e+01]\n",
      "Market 4, delta: [1.01010106e+01 2.21052874e-07], lambda: [5.17609172e-07 1.00000002e+01]\n",
      "Total liquidated value: 42.354330066784286\n",
      "Market 0, delta: [1.11568808e+00 2.64581412e-08 2.86570718e-07], lambda: [7.14069930e-07 2.92023684e-02 4.60221551e-01]\n",
      "Market 1, delta: [2.73193200e+00 3.71828757e-08], lambda: [8.21688386e-07 2.12884296e-01]\n",
      "Market 2, delta: [2.42086611e-01 6.58397166e-08], lambda: [9.40773942e-09 1.88577211e+00]\n",
      "Market 3, delta: [3.09493308e+01 9.02201371e-08], lambda: [2.67013387e-07 3.00083369e+01]\n",
      "Market 4, delta: [1.01010109e+01 3.18962556e-07], lambda: [7.70803215e-07 1.00000003e+01]\n",
      "Total liquidated value: 42.743521481118414\n",
      "Market 0, delta: [1.16523913e+00 4.49530468e-08 4.63923651e-07], lambda: [1.13569101e-06 3.04416936e-02 4.71340895e-01]\n",
      "Market 1, delta: [2.85492838e+00 6.14075286e-08], lambda: [1.21834888e-06 2.20356731e-01]\n",
      "Market 2, delta: [2.50798335e-01 1.02699526e-07], lambda: [1.55880485e-08 1.94046521e+00]\n",
      "Market 3, delta: [3.17971925e+01 1.46440115e-07], lambda: [4.45017385e-07 3.03317161e+01]\n",
      "Market 4, delta: [1.01010114e+01 5.18509078e-07], lambda: [1.30182198e-06 1.00000005e+01]\n",
      "Total liquidated value: 43.12032254588874\n",
      "Market 0, delta: [1.21474630e+00 5.59516822e-08 5.88775886e-07], lambda: [1.31594225e-06 3.16657444e-02 4.82040333e-01]\n",
      "Market 1, delta: [2.97790168e+00 7.82118746e-08], lambda: [1.32906737e-06 2.27687269e-01]\n",
      "Market 2, delta: [2.59352902e-01 1.27007560e-07], lambda: [2.03791561e-08 1.99345890e+00]\n",
      "Market 3, delta: [3.26451206e+01 1.84411388e-07], lambda: [5.78991962e-07 3.06448242e+01]\n",
      "Market 4, delta: [1.01010118e+01 6.55262153e-07], lambda: [1.71385835e-06 1.00000006e+01]\n",
      "Total liquidated value: 43.48531453840555\n",
      "Market 0, delta: [1.26421472e+00 5.86020298e-08 6.21056423e-07], lambda: [1.27149432e-06 3.28749529e-02 4.92341874e-01]\n",
      "Market 1, delta: [3.10085263e+00 8.38185165e-08], lambda: [1.23821267e-06 2.34879947e-01]\n",
      "Market 2, delta: [2.67754781e-01 1.32184525e-07], lambda: [2.21432916e-08 2.04483273e+00]\n",
      "Market 3, delta: [3.34931093e+01 1.94008716e-07], lambda: [6.28674595e-07 3.09481409e+01]\n",
      "Market 4, delta: [1.01010120e+01 6.89329859e-07], lambda: [1.87466318e-06 1.00000007e+01]\n",
      "Total liquidated value: 43.83904299352258\n",
      "Market 0, delta: [1.31365326e+00 4.53546855e-08 4.80733182e-07], lambda: [8.83273732e-07 3.40698607e-02 5.02266574e-01]\n",
      "Market 1, delta: [3.22378827e+00 6.62262458e-08], lambda: [8.6629961e-07 2.4193901e-01]\n",
      "Market 2, delta: [2.76008778e-01 1.01651441e-07], lambda: [1.76704563e-08 2.09466436e+00]\n",
      "Market 3, delta: [3.43411424e+01 1.49779747e-07], lambda: [5.01960101e-07 3.12421128e+01]\n",
      "Market 4, delta: [1.01010116e+01 5.31303458e-07], lambda: [1.50378196e-06 1.00000005e+01]\n"
     ]
    },
    {
     "name": "stdout",
     "output_type": "stream",
     "text": [
      "Total liquidated value: 44.18202041023949\n",
      "Market 0, delta: [1.36305436e+00 3.27774167e-08 3.32063081e-07], lambda: [4.59427173e-07 3.52502718e-02 5.11833131e-01]\n",
      "Market 1, delta: [3.34670263e+00 4.75176609e-08], lambda: [5.32700975e-07 2.48867815e-01]\n",
      "Market 2, delta: [2.84118021e-01 7.04454473e-08], lambda: [1.26986214e-08 2.14301782e+00]\n",
      "Market 3, delta: [3.51892342e+01 1.04524837e-07], lambda: [3.61713313e-07 3.15271700e+01]\n",
      "Market 4, delta: [1.01010112e+01 3.68471621e-07], lambda: [1.09232336e-06 1.00000004e+01]\n"
     ]
    },
    {
     "data": {
      "image/png": "[encoded data removed]",
      "text/plain": [
       "<Figure size 432x288 with 1 Axes>"
      ]
     },
     "metadata": {
      "needs_background": "light"
     },
     "output_type": "display_data"
    },
    {
     "data": {
      "image/png": "[encoded data removed]",
      "text/plain": [
       "<Figure size 432x288 with 1 Axes>"
      ]
     },
     "metadata": {
      "needs_background": "light"
     },
     "output_type": "display_data"
    }
   ],
   "source": [
    "#from latexify import latexify\n",
    "\n",
    "# Problem data\n",
    "global_indices = list(range(3))\n",
    "local_indices = [\n",
    "    [0, 1, 2],\n",
    "    [0, 1],\n",
    "    [1, 2],\n",
    "    [0, 2],\n",
    "    [0, 2]\n",
    "]\n",
    "\n",
    "reserves = list(map(np.array, [\n",
    "    [3, .2, 1],\n",
    "    [10, 1],\n",
    "    [1, 10],\n",
    "\n",
    "    # Note that there is arbitrage in the next two pools:\n",
    "    [20, 50],\n",
    "    [10, 10]\n",
    "]))\n",
    "\n",
    "fees = np.array([\n",
    "    .98,\n",
    "    .99,\n",
    "    .96,\n",
    "    .97,\n",
    "    .99\n",
    "])\n",
    "\n",
    "amounts = np.linspace(0, 50)\n",
    "\n",
    "u_t = np.zeros(len(amounts))\n",
    "\n",
    "all_values = [np.zeros((len(l), len(amounts))) for l in local_indices]\n",
    "\n",
    "for j, t in enumerate(amounts):\n",
    "    current_assets = np.array([\n",
    "        t,\n",
    "        0,\n",
    "        0,\n",
    "    ])\n",
    "\n",
    "    # Build local-global matrices\n",
    "    n = len(global_indices)\n",
    "    m = len(local_indices)\n",
    "\n",
    "    A = []\n",
    "    for l in local_indices:\n",
    "        n_i = len(l)\n",
    "        A_i = np.zeros((n, n_i))\n",
    "        for i, idx in enumerate(l):\n",
    "            A_i[idx, i] = 1\n",
    "        A.append(A_i)\n",
    "\n",
    "    # Build variables\n",
    "    deltas = [cp.Variable(len(l), nonneg=True) for l in local_indices]\n",
    "    lambdas = [cp.Variable(len(l), nonneg=True) for l in local_indices]\n",
    "\n",
    "    psi = cp.sum([A_i @ (L - D) for A_i, D, L in zip(A, deltas, lambdas)])\n",
    "\n",
    "    # Objective is to trade t of asset 1 for a maximum amount of asset 3\n",
    "    obj = cp.Maximize(psi[2])\n",
    "\n",
    "    # Reserves after trade\n",
    "    new_reserves = [R + gamma_i*D - L for R, gamma_i, D, L in zip(reserves, fees, deltas, lambdas)]\n",
    "\n",
    "    # Trading function constraints\n",
    "    cons = [\n",
    "        # Balancer pool with weights 3, 2, 1\n",
    "        cp.geo_mean(new_reserves[0], p=np.array([3, 2, 1])) >= cp.geo_mean(reserves[0], p=np.array([3, 2, 1])),\n",
    "\n",
    "        # Uniswap v2 pools\n",
    "        cp.geo_mean(new_reserves[1]) >= cp.geo_mean(reserves[1]),\n",
    "        cp.geo_mean(new_reserves[2]) >= cp.geo_mean(reserves[2]),\n",
    "        cp.geo_mean(new_reserves[3]) >= cp.geo_mean(reserves[3]),\n",
    "\n",
    "        # Constant sum pool\n",
    "        cp.sum(new_reserves[4]) >= cp.sum(reserves[4]),\n",
    "        new_reserves[4] >= 0,\n",
    "\n",
    "        # Allow all assets at hand to be traded\n",
    "        psi + current_assets >= 0\n",
    "    ]\n",
    "\n",
    "    # Set up and solve problem\n",
    "    prob = cp.Problem(obj, cons)\n",
    "    prob.solve()\n",
    "\n",
    "    for k in range(len(local_indices)):\n",
    "        all_values[k][:, j] = lambdas[k].value - deltas[k].value\n",
    "\n",
    "    print(f\"Total liquidated value: {psi.value[2]}\")\n",
    "    for i in range(5):\n",
    "        print(f\"Market {i}, delta: {deltas[i].value}, lambda: {lambdas[i].value}\")\n",
    "\n",
    "    u_t[j] = obj.value\n",
    "\n",
    "#latexify(fig_width=6, fig_height=3.5)\n",
    "for k in range(len(local_indices)):\n",
    "    curr_value = all_values[k]\n",
    "    for i in range(curr_value.shape[0]):\n",
    "        coin_out = curr_value[i, :]\n",
    "        plt.plot(amounts, coin_out, label=f\"$(\\\\Lambda_{{{k+1}}} - \\\\Delta_{{{k+1}}})_{{{i+1}}}$\")\n",
    "\n",
    "plt.legend(loc='center left', bbox_to_anchor=(1, .5))\n",
    "plt.xlabel(\"$t$\")\n",
    "#plt.savefig(\"output/all_plot.pdf\", bbox_inches=\"tight\")\n",
    "plt.show()\n",
    "\n",
    "#latexify(fig_width=4, fig_height=3)\n",
    "plt.plot(amounts, u_t, \"k\")\n",
    "plt.ylim([0, np.max(u_t)+2])\n",
    "plt.ylabel(\"$u(t)$\")\n",
    "plt.xlabel(\"$t$\")\n",
    "#plt.savefig(\"output/u_plot.pdf\", bbox_inches=\"tight\")\n",
    "plt.show()"
   ]
  },
  {
   "cell_type": "markdown",
   "metadata": {
    "id": "xBtwtMLRCest"
   },
   "source": [
    "## Liquidation"
   ]
  },
  {
   "cell_type": "code",
   "execution_count": 5,
   "metadata": {
    "colab": {
     "base_uri": "https://localhost:8080/"
    },
    "executionInfo": {
     "elapsed": 220,
     "status": "ok",
     "timestamp": 1643149145320,
     "user": {
      "displayName": "Áron Pap",
      "photoUrl": "https://lh3.googleusercontent.com/a/default-user=s64",
      "userId": "01099565232668806024"
     },
     "user_tz": -60
    },
    "id": "eu1i7ppqV9ap",
    "outputId": "259cbc5d-874c-4f1c-d1e3-3607fbf5b9eb"
   },
   "outputs": [
    {
     "name": "stdout",
     "output_type": "stream",
     "text": [
      "Total liquidated value: 15.883010841597159\n"
     ]
    }
   ],
   "source": [
    "# Problem data\n",
    "global_indices = list(range(5))\n",
    "local_indices = [\n",
    "    [0, 1, 2, 3, 4],\n",
    "    [0, 1],\n",
    "    [2, 3],\n",
    "    [3, 4],\n",
    "    [3, 4]\n",
    "]\n",
    "\n",
    "reserves = list(map(np.array, [\n",
    "    [4, 4, 4, 4, 4],\n",
    "    [10, 1],\n",
    "    [1, 5],\n",
    "    [40, 50],\n",
    "    [10, 10]\n",
    "]))\n",
    "\n",
    "fees = [\n",
    "    .998,\n",
    "    .997,\n",
    "    .997,\n",
    "    .997,\n",
    "    .999\n",
    "]\n",
    "\n",
    "current_assets = [\n",
    "    2,\n",
    "    1,\n",
    "    3,\n",
    "    5,\n",
    "    10\n",
    "]\n",
    "\n",
    "# Build local-global matrices\n",
    "n = len(global_indices)\n",
    "m = len(local_indices)\n",
    "\n",
    "A = []\n",
    "for l in local_indices:\n",
    "    n_i = len(l)\n",
    "    A_i = np.zeros((n, n_i))\n",
    "    for i, idx in enumerate(l):\n",
    "        A_i[idx, i] = 1\n",
    "    A.append(A_i)\n",
    "\n",
    "# Build variables\n",
    "deltas = [cp.Variable(len(l), nonneg=True) for l in local_indices]\n",
    "lambdas = [cp.Variable(len(l), nonneg=True) for l in local_indices]\n",
    "\n",
    "psi = cp.sum([A_i @ (L - D) for A_i, D, L in zip(A, deltas, lambdas)])\n",
    "\n",
    "# Objective is to liquidate everything into token 4\n",
    "obj = cp.Maximize(psi[4])\n",
    "\n",
    "# Reserves after trade\n",
    "new_reserves = [R + gamma_i*D - L for R, gamma_i, D, L in zip(reserves, fees, deltas, lambdas)]\n",
    "\n",
    "# Trading function constraints\n",
    "cons = [\n",
    "    # Balancer pool with weights 5, 4, 3, 2, 1\n",
    "    cp.geo_mean(new_reserves[0], p=np.array([5, 4, 3, 2, 1])) >= cp.geo_mean(reserves[0]),\n",
    "\n",
    "    # Uniswap v2 pools\n",
    "    cp.geo_mean(new_reserves[1]) >= cp.geo_mean(reserves[1]),\n",
    "    cp.geo_mean(new_reserves[2]) >= cp.geo_mean(reserves[2]),\n",
    "    cp.geo_mean(new_reserves[3]) >= cp.geo_mean(reserves[3]),\n",
    "\n",
    "    # Constant sum pool\n",
    "    cp.sum(new_reserves[4]) >= cp.sum(reserves[4]),\n",
    "    new_reserves[4] >= 0,\n",
    "\n",
    "    # Liquidate all assets, except 4\n",
    "    psi[0] + current_assets[0] == 0,\n",
    "    psi[1] + current_assets[1] == 0,\n",
    "    psi[2] + current_assets[2] == 0,\n",
    "    psi[3] + current_assets[3] == 0\n",
    "]\n",
    "\n",
    "# Set up and solve problem\n",
    "prob = cp.Problem(obj, cons)\n",
    "prob.solve()\n",
    "\n",
    "print(f\"Total liquidated value: {psi.value[4]}\")"
   ]
  },
  {
   "cell_type": "code",
   "execution_count": 6,
   "metadata": {
    "colab": {
     "base_uri": "https://localhost:8080/"
    },
    "executionInfo": {
     "elapsed": 250,
     "status": "ok",
     "timestamp": 1643149151597,
     "user": {
      "displayName": "Áron Pap",
      "photoUrl": "https://lh3.googleusercontent.com/a/default-user=s64",
      "userId": "01099565232668806024"
     },
     "user_tz": -60
    },
    "id": "qLHZnyNoCqNS",
    "outputId": "8111e5e3-7742-4087-d4e0-f1679cf2c637"
   },
   "outputs": [
    {
     "data": {
      "text/plain": [
       "[Variable((5,), nonneg=True),\n",
       " Variable((5,), nonneg=True),\n",
       " Variable((2,), nonneg=True),\n",
       " Variable((2,), nonneg=True),\n",
       " Variable((2,), nonneg=True),\n",
       " Variable((2,), nonneg=True),\n",
       " Variable((2,), nonneg=True),\n",
       " Variable((2,), nonneg=True),\n",
       " Variable((2,), nonneg=True),\n",
       " Variable((2,), nonneg=True)]"
      ]
     },
     "execution_count": 6,
     "metadata": {},
     "output_type": "execute_result"
    }
   ],
   "source": [
    "prob.variables()"
   ]
  },
  {
   "cell_type": "markdown",
   "metadata": {
    "id": "BLNzUDFNNLvJ"
   },
   "source": [
    "# Fixed transaction cost extension"
   ]
  },
  {
   "cell_type": "markdown",
   "metadata": {
    "id": "qaJ1KfyVG-G2"
   },
   "source": [
    "## Global optimization approach (Mixed-integer convex program)"
   ]
  },
  {
   "cell_type": "markdown",
   "metadata": {
    "id": "Rvjff2qyDFet"
   },
   "source": [
    "### Basic example (liquidation)"
   ]
  },
  {
   "cell_type": "code",
   "execution_count": 44,
   "metadata": {
    "executionInfo": {
     "elapsed": 220,
     "status": "ok",
     "timestamp": 1643149276927,
     "user": {
      "displayName": "Áron Pap",
      "photoUrl": "https://lh3.googleusercontent.com/a/default-user=s64",
      "userId": "01099565232668806024"
     },
     "user_tz": -60
    },
    "id": "dhKNn-LFDDBg"
   },
   "outputs": [],
   "source": [
    "# Problem data\n",
    "global_indices = list(range(5))\n",
    "local_indices = [\n",
    "    [0, 1, 2, 3, 4],\n",
    "    [0, 1],\n",
    "    [2, 3],\n",
    "    [3, 4],\n",
    "    [3, 4]\n",
    "]\n",
    "\n",
    "reserves = list(map(np.array, [\n",
    "    [4, 4, 4, 4, 4],\n",
    "    [10, 1],\n",
    "    [1, 5],\n",
    "    [40, 50],\n",
    "    [10, 10]\n",
    "]))\n",
    "\n",
    "fees = [\n",
    "    .998,\n",
    "    .997,\n",
    "    .997,\n",
    "    .997,\n",
    "    .999\n",
    "]\n",
    "\n",
    "current_assets = [\n",
    "    2,\n",
    "    1,\n",
    "    3,\n",
    "    5,\n",
    "    10\n",
    "]\n",
    "\n",
    "q = np.ones(5)\n",
    "\n",
    "delta_max_val = 1000\n",
    "delta_maxs = [np.ones(len(l))*delta_max_val for l in local_indices]"
   ]
  },
  {
   "cell_type": "code",
   "execution_count": 45,
   "metadata": {
    "executionInfo": {
     "elapsed": 3,
     "status": "ok",
     "timestamp": 1643149277625,
     "user": {
      "displayName": "Áron Pap",
      "photoUrl": "https://lh3.googleusercontent.com/a/default-user=s64",
      "userId": "01099565232668806024"
     },
     "user_tz": -60
    },
    "id": "MA_uMzJ3DOg7"
   },
   "outputs": [],
   "source": [
    "# Build local-global matrices\n",
    "n = len(global_indices)\n",
    "m = len(local_indices)\n",
    "\n",
    "A = []\n",
    "for l in local_indices:\n",
    "    n_i = len(l)\n",
    "    A_i = np.zeros((n, n_i))\n",
    "    for i, idx in enumerate(l):\n",
    "        A_i[idx, i] = 1\n",
    "    A.append(A_i)"
   ]
  },
  {
   "cell_type": "code",
   "execution_count": 46,
   "metadata": {
    "executionInfo": {
     "elapsed": 3,
     "status": "ok",
     "timestamp": 1643149278236,
     "user": {
      "displayName": "Áron Pap",
      "photoUrl": "https://lh3.googleusercontent.com/a/default-user=s64",
      "userId": "01099565232668806024"
     },
     "user_tz": -60
    },
    "id": "ClaaBCUWDpiF"
   },
   "outputs": [],
   "source": [
    "# Build variables\n",
    "deltas = [cp.Variable(len(l), nonneg=True) for l in local_indices]\n",
    "lambdas = [cp.Variable(len(l), nonneg=True) for l in local_indices]\n",
    "etas = cp.Variable(5, boolean=True)"
   ]
  },
  {
   "cell_type": "code",
   "execution_count": 47,
   "metadata": {
    "executionInfo": {
     "elapsed": 4,
     "status": "ok",
     "timestamp": 1643149279498,
     "user": {
      "displayName": "Áron Pap",
      "photoUrl": "https://lh3.googleusercontent.com/a/default-user=s64",
      "userId": "01099565232668806024"
     },
     "user_tz": -60
    },
    "id": "S2UlHr-lDtxQ"
   },
   "outputs": [],
   "source": [
    "psi = cp.sum([A_i @ (L - D) for A_i, D, L in zip(A, deltas, lambdas)])\n",
    "\n",
    "# Objective is to liquidate everything into token 4\n",
    "obj = cp.Maximize(psi[4] - q @ etas)\n",
    "\n",
    "# Reserves after trade\n",
    "new_reserves = [R + gamma_i*D - L for R, gamma_i, D, L in zip(reserves, fees, deltas, lambdas)]\n",
    "\n",
    "# Trading function constraints\n",
    "cons = [\n",
    "    # Balancer pool with weights 5, 4, 3, 2, 1\n",
    "    cp.geo_mean(new_reserves[0], p=np.array([5, 4, 3, 2, 1])) >= cp.geo_mean(reserves[0]),\n",
    "\n",
    "    # Uniswap v2 pools\n",
    "    cp.geo_mean(new_reserves[1]) >= cp.geo_mean(reserves[1]),\n",
    "    cp.geo_mean(new_reserves[2]) >= cp.geo_mean(reserves[2]),\n",
    "    cp.geo_mean(new_reserves[3]) >= cp.geo_mean(reserves[3]),\n",
    "\n",
    "    # Constant sum pool\n",
    "    cp.sum(new_reserves[4]) >= cp.sum(reserves[4]),\n",
    "    new_reserves[4] >= 0,\n",
    "\n",
    "    # Liquidate all assets, except 4\n",
    "    psi[0] + current_assets[0] == 0,\n",
    "    psi[1] + current_assets[1] == 0,\n",
    "    psi[2] + current_assets[2] == 0,\n",
    "    psi[3] + current_assets[3] == 0\n",
    "]\n",
    "\n",
    "# Add fixed trading cost related constraints\n",
    "for i, delta_max in enumerate(delta_maxs):\n",
    "    cons.append(deltas[i] <= etas[i] * delta_max)"
   ]
  },
  {
   "cell_type": "code",
   "execution_count": 48,
   "metadata": {
    "executionInfo": {
     "elapsed": 238,
     "status": "ok",
     "timestamp": 1643149293265,
     "user": {
      "displayName": "Áron Pap",
      "photoUrl": "https://lh3.googleusercontent.com/a/default-user=s64",
      "userId": "01099565232668806024"
     },
     "user_tz": -60
    },
    "id": "EOGE4nlwU2u5"
   },
   "outputs": [],
   "source": [
    "prob.value"
   ]
  },
  {
   "cell_type": "code",
   "execution_count": 49,
   "metadata": {
    "colab": {
     "base_uri": "https://localhost:8080/",
     "height": 201
    },
    "executionInfo": {
     "elapsed": 3271,
     "status": "error",
     "timestamp": 1643149285010,
     "user": {
      "displayName": "Áron Pap",
      "photoUrl": "https://lh3.googleusercontent.com/a/default-user=s64",
      "userId": "01099565232668806024"
     },
     "user_tz": -60
    },
    "id": "gx0uZk8DDmjM",
    "outputId": "090a5a6f-300b-4701-9622-f938b436c4a2"
   },
   "outputs": [
    {
     "ename": "SolverError",
     "evalue": "Either candidate conic solvers (['GLPK_MI']) do not support the cones output by the problem (SOC, NonNeg, Zero), or there are not enough constraints in the problem.",
     "output_type": "error",
     "traceback": [
      "\u001b[0;31m---------------------------------------------------------------------------\u001b[0m",
      "\u001b[0;31mSolverError\u001b[0m                               Traceback (most recent call last)",
      "\u001b[0;32m<ipython-input-49-69a1ccfa4a18>\u001b[0m in \u001b[0;36m<module>\u001b[0;34m\u001b[0m\n\u001b[1;32m      1\u001b[0m \u001b[0;31m# Set up and solve problem\u001b[0m\u001b[0;34m\u001b[0m\u001b[0;34m\u001b[0m\u001b[0;34m\u001b[0m\u001b[0m\n\u001b[1;32m      2\u001b[0m \u001b[0mprob\u001b[0m \u001b[0;34m=\u001b[0m \u001b[0mcp\u001b[0m\u001b[0;34m.\u001b[0m\u001b[0mProblem\u001b[0m\u001b[0;34m(\u001b[0m\u001b[0mobj\u001b[0m\u001b[0;34m,\u001b[0m \u001b[0mcons\u001b[0m\u001b[0;34m)\u001b[0m\u001b[0;34m\u001b[0m\u001b[0;34m\u001b[0m\u001b[0m\n\u001b[0;32m----> 3\u001b[0;31m \u001b[0mprob\u001b[0m\u001b[0;34m.\u001b[0m\u001b[0msolve\u001b[0m\u001b[0;34m(\u001b[0m\u001b[0;34m)\u001b[0m\u001b[0;34m\u001b[0m\u001b[0;34m\u001b[0m\u001b[0m\n\u001b[0m\u001b[1;32m      4\u001b[0m \u001b[0;34m\u001b[0m\u001b[0m\n\u001b[1;32m      5\u001b[0m \u001b[0mprint\u001b[0m\u001b[0;34m(\u001b[0m\u001b[0;34mf\"Total liquidated value: {psi.value[4]}\"\u001b[0m\u001b[0;34m)\u001b[0m\u001b[0;34m\u001b[0m\u001b[0;34m\u001b[0m\u001b[0m\n",
      "\u001b[0;32m~/opt/anaconda3/lib/python3.7/site-packages/cvxpy/problems/problem.py\u001b[0m in \u001b[0;36msolve\u001b[0;34m(self, *args, **kwargs)\u001b[0m\n\u001b[1;32m    394\u001b[0m         \u001b[0;32melse\u001b[0m\u001b[0;34m:\u001b[0m\u001b[0;34m\u001b[0m\u001b[0;34m\u001b[0m\u001b[0m\n\u001b[1;32m    395\u001b[0m             \u001b[0msolve_func\u001b[0m \u001b[0;34m=\u001b[0m \u001b[0mProblem\u001b[0m\u001b[0;34m.\u001b[0m\u001b[0m_solve\u001b[0m\u001b[0;34m\u001b[0m\u001b[0;34m\u001b[0m\u001b[0m\n\u001b[0;32m--> 396\u001b[0;31m         \u001b[0;32mreturn\u001b[0m \u001b[0msolve_func\u001b[0m\u001b[0;34m(\u001b[0m\u001b[0mself\u001b[0m\u001b[0;34m,\u001b[0m \u001b[0;34m*\u001b[0m\u001b[0margs\u001b[0m\u001b[0;34m,\u001b[0m \u001b[0;34m**\u001b[0m\u001b[0mkwargs\u001b[0m\u001b[0;34m)\u001b[0m\u001b[0;34m\u001b[0m\u001b[0;34m\u001b[0m\u001b[0m\n\u001b[0m\u001b[1;32m    397\u001b[0m \u001b[0;34m\u001b[0m\u001b[0m\n\u001b[1;32m    398\u001b[0m     \u001b[0;34m@\u001b[0m\u001b[0mclassmethod\u001b[0m\u001b[0;34m\u001b[0m\u001b[0;34m\u001b[0m\u001b[0m\n",
      "\u001b[0;32m~/opt/anaconda3/lib/python3.7/site-packages/cvxpy/problems/problem.py\u001b[0m in \u001b[0;36m_solve\u001b[0;34m(self, solver, warm_start, verbose, gp, qcp, requires_grad, enforce_dpp, **kwargs)\u001b[0m\n\u001b[1;32m    749\u001b[0m \u001b[0;34m\u001b[0m\u001b[0m\n\u001b[1;32m    750\u001b[0m         data, solving_chain, inverse_data = self.get_problem_data(\n\u001b[0;32m--> 751\u001b[0;31m             solver, gp, enforce_dpp)\n\u001b[0m\u001b[1;32m    752\u001b[0m         solution = solving_chain.solve_via_data(\n\u001b[1;32m    753\u001b[0m             self, data, warm_start, verbose, kwargs)\n",
      "\u001b[0;32m~/opt/anaconda3/lib/python3.7/site-packages/cvxpy/problems/problem.py\u001b[0m in \u001b[0;36mget_problem_data\u001b[0;34m(self, solver, gp, enforce_dpp)\u001b[0m\n\u001b[1;32m    498\u001b[0m             \u001b[0mself\u001b[0m\u001b[0;34m.\u001b[0m\u001b[0m_cache\u001b[0m\u001b[0;34m.\u001b[0m\u001b[0minvalidate\u001b[0m\u001b[0;34m(\u001b[0m\u001b[0;34m)\u001b[0m\u001b[0;34m\u001b[0m\u001b[0;34m\u001b[0m\u001b[0m\n\u001b[1;32m    499\u001b[0m             solving_chain = self._construct_chain(\n\u001b[0;32m--> 500\u001b[0;31m                 solver=solver, gp=gp, enforce_dpp=enforce_dpp)\n\u001b[0m\u001b[1;32m    501\u001b[0m             \u001b[0mself\u001b[0m\u001b[0;34m.\u001b[0m\u001b[0m_cache\u001b[0m\u001b[0;34m.\u001b[0m\u001b[0mkey\u001b[0m \u001b[0;34m=\u001b[0m \u001b[0mkey\u001b[0m\u001b[0;34m\u001b[0m\u001b[0;34m\u001b[0m\u001b[0m\n\u001b[1;32m    502\u001b[0m             \u001b[0mself\u001b[0m\u001b[0;34m.\u001b[0m\u001b[0m_cache\u001b[0m\u001b[0;34m.\u001b[0m\u001b[0msolving_chain\u001b[0m \u001b[0;34m=\u001b[0m \u001b[0msolving_chain\u001b[0m\u001b[0;34m\u001b[0m\u001b[0;34m\u001b[0m\u001b[0m\n",
      "\u001b[0;32m~/opt/anaconda3/lib/python3.7/site-packages/cvxpy/problems/problem.py\u001b[0m in \u001b[0;36m_construct_chain\u001b[0;34m(self, solver, gp, enforce_dpp)\u001b[0m\n\u001b[1;32m    657\u001b[0m         \u001b[0mcandidate_solvers\u001b[0m \u001b[0;34m=\u001b[0m \u001b[0mself\u001b[0m\u001b[0;34m.\u001b[0m\u001b[0m_find_candidate_solvers\u001b[0m\u001b[0;34m(\u001b[0m\u001b[0msolver\u001b[0m\u001b[0;34m=\u001b[0m\u001b[0msolver\u001b[0m\u001b[0;34m,\u001b[0m \u001b[0mgp\u001b[0m\u001b[0;34m=\u001b[0m\u001b[0mgp\u001b[0m\u001b[0;34m)\u001b[0m\u001b[0;34m\u001b[0m\u001b[0;34m\u001b[0m\u001b[0m\n\u001b[1;32m    658\u001b[0m         return construct_solving_chain(self, candidate_solvers, gp=gp,\n\u001b[0;32m--> 659\u001b[0;31m                                        enforce_dpp=enforce_dpp)\n\u001b[0m\u001b[1;32m    660\u001b[0m \u001b[0;34m\u001b[0m\u001b[0m\n\u001b[1;32m    661\u001b[0m     \u001b[0;32mdef\u001b[0m \u001b[0m_invalidate_cache\u001b[0m\u001b[0;34m(\u001b[0m\u001b[0mself\u001b[0m\u001b[0;34m)\u001b[0m\u001b[0;34m:\u001b[0m\u001b[0;34m\u001b[0m\u001b[0;34m\u001b[0m\u001b[0m\n",
      "\u001b[0;32m~/opt/anaconda3/lib/python3.7/site-packages/cvxpy/reductions/solvers/solving_chain.py\u001b[0m in \u001b[0;36mconstruct_solving_chain\u001b[0;34m(problem, candidates, gp, enforce_dpp)\u001b[0m\n\u001b[1;32m    225\u001b[0m                       \"enough constraints in the problem.\" % (\n\u001b[1;32m    226\u001b[0m                           \u001b[0mcandidates\u001b[0m\u001b[0;34m[\u001b[0m\u001b[0;34m'conic_solvers'\u001b[0m\u001b[0;34m]\u001b[0m\u001b[0;34m,\u001b[0m\u001b[0;34m\u001b[0m\u001b[0;34m\u001b[0m\u001b[0m\n\u001b[0;32m--> 227\u001b[0;31m                           \", \".join([cone.__name__ for cone in cones])))\n\u001b[0m\u001b[1;32m    228\u001b[0m \u001b[0;34m\u001b[0m\u001b[0m\n\u001b[1;32m    229\u001b[0m \u001b[0;34m\u001b[0m\u001b[0m\n",
      "\u001b[0;31mSolverError\u001b[0m: Either candidate conic solvers (['GLPK_MI']) do not support the cones output by the problem (SOC, NonNeg, Zero), or there are not enough constraints in the problem."
     ]
    }
   ],
   "source": [
    "# Set up and solve problem\n",
    "prob = cp.Problem(obj, cons)\n",
    "prob.solve()\n",
    "\n",
    "print(f\"Total liquidated value: {psi.value[4]}\")"
   ]
  },
  {
   "cell_type": "code",
   "execution_count": 50,
   "metadata": {
    "colab": {
     "base_uri": "https://localhost:8080/",
     "height": 166
    },
    "executionInfo": {
     "elapsed": 223,
     "status": "error",
     "timestamp": 1643149244669,
     "user": {
      "displayName": "Áron Pap",
      "photoUrl": "https://lh3.googleusercontent.com/a/default-user=s64",
      "userId": "01099565232668806024"
     },
     "user_tz": -60
    },
    "id": "se0CwaxAHJJp",
    "outputId": "c69878b5-4b3b-4ce7-927b-bf61e1561a6b"
   },
   "outputs": [
    {
     "ename": "TypeError",
     "evalue": "'NoneType' object is not iterable",
     "output_type": "error",
     "traceback": [
      "\u001b[0;31m---------------------------------------------------------------------------\u001b[0m",
      "\u001b[0;31mTypeError\u001b[0m                                 Traceback (most recent call last)",
      "\u001b[0;32m<ipython-input-50-d1aca555d6a5>\u001b[0m in \u001b[0;36m<module>\u001b[0;34m\u001b[0m\n\u001b[0;32m----> 1\u001b[0;31m \u001b[0mmax\u001b[0m\u001b[0;34m(\u001b[0m\u001b[0mdeltas\u001b[0m\u001b[0;34m[\u001b[0m\u001b[0;36m0\u001b[0m\u001b[0;34m]\u001b[0m\u001b[0;34m.\u001b[0m\u001b[0mvalue\u001b[0m\u001b[0;34m)\u001b[0m \u001b[0;34m<\u001b[0m \u001b[0;36m0.0001\u001b[0m\u001b[0;34m\u001b[0m\u001b[0;34m\u001b[0m\u001b[0m\n\u001b[0m",
      "\u001b[0;31mTypeError\u001b[0m: 'NoneType' object is not iterable"
     ]
    }
   ],
   "source": [
    "max(deltas[0].value) < 0.0001"
   ]
  },
  {
   "cell_type": "code",
   "execution_count": 34,
   "metadata": {
    "colab": {
     "base_uri": "https://localhost:8080/"
    },
    "executionInfo": {
     "elapsed": 5,
     "status": "ok",
     "timestamp": 1640964646397,
     "user": {
      "displayName": "Áron Pap",
      "photoUrl": "https://lh3.googleusercontent.com/a/default-user=s64",
      "userId": "01099565232668806024"
     },
     "user_tz": -60
    },
    "id": "iqFiyJSADwO_",
    "outputId": "f8eb2a1d-df87-41c5-bc3a-76440fc09001"
   },
   "outputs": [],
   "source": [
    "etas.value"
   ]
  },
  {
   "cell_type": "markdown",
   "metadata": {
    "id": "viOJsOQFIzjh"
   },
   "source": [
    "## 2-assets example"
   ]
  },
  {
   "cell_type": "code",
   "execution_count": 15,
   "metadata": {
    "executionInfo": {
     "elapsed": 5046,
     "status": "ok",
     "timestamp": 1643149305132,
     "user": {
      "displayName": "Áron Pap",
      "photoUrl": "https://lh3.googleusercontent.com/a/default-user=s64",
      "userId": "01099565232668806024"
     },
     "user_tz": -60
    },
    "id": "DDrvIsrLIzGn"
   },
   "outputs": [
    {
     "ename": "SolverError",
     "evalue": "Either candidate conic solvers (['GLPK_MI']) do not support the cones output by the problem (SOC, NonNeg), or there are not enough constraints in the problem.",
     "output_type": "error",
     "traceback": [
      "\u001b[0;31m---------------------------------------------------------------------------\u001b[0m",
      "\u001b[0;31mSolverError\u001b[0m                               Traceback (most recent call last)",
      "\u001b[0;32m<ipython-input-15-b38f7082ec69>\u001b[0m in \u001b[0;36m<module>\u001b[0;34m\u001b[0m\n\u001b[1;32m     97\u001b[0m     \u001b[0;31m# Set up and solve problem\u001b[0m\u001b[0;34m\u001b[0m\u001b[0;34m\u001b[0m\u001b[0;34m\u001b[0m\u001b[0m\n\u001b[1;32m     98\u001b[0m     \u001b[0mprob\u001b[0m \u001b[0;34m=\u001b[0m \u001b[0mcp\u001b[0m\u001b[0;34m.\u001b[0m\u001b[0mProblem\u001b[0m\u001b[0;34m(\u001b[0m\u001b[0mobj\u001b[0m\u001b[0;34m,\u001b[0m \u001b[0mcons\u001b[0m\u001b[0;34m)\u001b[0m\u001b[0;34m\u001b[0m\u001b[0;34m\u001b[0m\u001b[0m\n\u001b[0;32m---> 99\u001b[0;31m     \u001b[0mprob\u001b[0m\u001b[0;34m.\u001b[0m\u001b[0msolve\u001b[0m\u001b[0;34m(\u001b[0m\u001b[0;34m)\u001b[0m\u001b[0;34m\u001b[0m\u001b[0;34m\u001b[0m\u001b[0m\n\u001b[0m\u001b[1;32m    100\u001b[0m \u001b[0;34m\u001b[0m\u001b[0m\n\u001b[1;32m    101\u001b[0m     \u001b[0;32mfor\u001b[0m \u001b[0mk\u001b[0m \u001b[0;32min\u001b[0m \u001b[0mrange\u001b[0m\u001b[0;34m(\u001b[0m\u001b[0mlen\u001b[0m\u001b[0;34m(\u001b[0m\u001b[0mlocal_indices\u001b[0m\u001b[0;34m)\u001b[0m\u001b[0;34m)\u001b[0m\u001b[0;34m:\u001b[0m\u001b[0;34m\u001b[0m\u001b[0;34m\u001b[0m\u001b[0m\n",
      "\u001b[0;32m~/opt/anaconda3/lib/python3.7/site-packages/cvxpy/problems/problem.py\u001b[0m in \u001b[0;36msolve\u001b[0;34m(self, *args, **kwargs)\u001b[0m\n\u001b[1;32m    394\u001b[0m         \u001b[0;32melse\u001b[0m\u001b[0;34m:\u001b[0m\u001b[0;34m\u001b[0m\u001b[0;34m\u001b[0m\u001b[0m\n\u001b[1;32m    395\u001b[0m             \u001b[0msolve_func\u001b[0m \u001b[0;34m=\u001b[0m \u001b[0mProblem\u001b[0m\u001b[0;34m.\u001b[0m\u001b[0m_solve\u001b[0m\u001b[0;34m\u001b[0m\u001b[0;34m\u001b[0m\u001b[0m\n\u001b[0;32m--> 396\u001b[0;31m         \u001b[0;32mreturn\u001b[0m \u001b[0msolve_func\u001b[0m\u001b[0;34m(\u001b[0m\u001b[0mself\u001b[0m\u001b[0;34m,\u001b[0m \u001b[0;34m*\u001b[0m\u001b[0margs\u001b[0m\u001b[0;34m,\u001b[0m \u001b[0;34m**\u001b[0m\u001b[0mkwargs\u001b[0m\u001b[0;34m)\u001b[0m\u001b[0;34m\u001b[0m\u001b[0;34m\u001b[0m\u001b[0m\n\u001b[0m\u001b[1;32m    397\u001b[0m \u001b[0;34m\u001b[0m\u001b[0m\n\u001b[1;32m    398\u001b[0m     \u001b[0;34m@\u001b[0m\u001b[0mclassmethod\u001b[0m\u001b[0;34m\u001b[0m\u001b[0;34m\u001b[0m\u001b[0m\n",
      "\u001b[0;32m~/opt/anaconda3/lib/python3.7/site-packages/cvxpy/problems/problem.py\u001b[0m in \u001b[0;36m_solve\u001b[0;34m(self, solver, warm_start, verbose, gp, qcp, requires_grad, enforce_dpp, **kwargs)\u001b[0m\n\u001b[1;32m    749\u001b[0m \u001b[0;34m\u001b[0m\u001b[0m\n\u001b[1;32m    750\u001b[0m         data, solving_chain, inverse_data = self.get_problem_data(\n\u001b[0;32m--> 751\u001b[0;31m             solver, gp, enforce_dpp)\n\u001b[0m\u001b[1;32m    752\u001b[0m         solution = solving_chain.solve_via_data(\n\u001b[1;32m    753\u001b[0m             self, data, warm_start, verbose, kwargs)\n",
      "\u001b[0;32m~/opt/anaconda3/lib/python3.7/site-packages/cvxpy/problems/problem.py\u001b[0m in \u001b[0;36mget_problem_data\u001b[0;34m(self, solver, gp, enforce_dpp)\u001b[0m\n\u001b[1;32m    498\u001b[0m             \u001b[0mself\u001b[0m\u001b[0;34m.\u001b[0m\u001b[0m_cache\u001b[0m\u001b[0;34m.\u001b[0m\u001b[0minvalidate\u001b[0m\u001b[0;34m(\u001b[0m\u001b[0;34m)\u001b[0m\u001b[0;34m\u001b[0m\u001b[0;34m\u001b[0m\u001b[0m\n\u001b[1;32m    499\u001b[0m             solving_chain = self._construct_chain(\n\u001b[0;32m--> 500\u001b[0;31m                 solver=solver, gp=gp, enforce_dpp=enforce_dpp)\n\u001b[0m\u001b[1;32m    501\u001b[0m             \u001b[0mself\u001b[0m\u001b[0;34m.\u001b[0m\u001b[0m_cache\u001b[0m\u001b[0;34m.\u001b[0m\u001b[0mkey\u001b[0m \u001b[0;34m=\u001b[0m \u001b[0mkey\u001b[0m\u001b[0;34m\u001b[0m\u001b[0;34m\u001b[0m\u001b[0m\n\u001b[1;32m    502\u001b[0m             \u001b[0mself\u001b[0m\u001b[0;34m.\u001b[0m\u001b[0m_cache\u001b[0m\u001b[0;34m.\u001b[0m\u001b[0msolving_chain\u001b[0m \u001b[0;34m=\u001b[0m \u001b[0msolving_chain\u001b[0m\u001b[0;34m\u001b[0m\u001b[0;34m\u001b[0m\u001b[0m\n",
      "\u001b[0;32m~/opt/anaconda3/lib/python3.7/site-packages/cvxpy/problems/problem.py\u001b[0m in \u001b[0;36m_construct_chain\u001b[0;34m(self, solver, gp, enforce_dpp)\u001b[0m\n\u001b[1;32m    657\u001b[0m         \u001b[0mcandidate_solvers\u001b[0m \u001b[0;34m=\u001b[0m \u001b[0mself\u001b[0m\u001b[0;34m.\u001b[0m\u001b[0m_find_candidate_solvers\u001b[0m\u001b[0;34m(\u001b[0m\u001b[0msolver\u001b[0m\u001b[0;34m=\u001b[0m\u001b[0msolver\u001b[0m\u001b[0;34m,\u001b[0m \u001b[0mgp\u001b[0m\u001b[0;34m=\u001b[0m\u001b[0mgp\u001b[0m\u001b[0;34m)\u001b[0m\u001b[0;34m\u001b[0m\u001b[0;34m\u001b[0m\u001b[0m\n\u001b[1;32m    658\u001b[0m         return construct_solving_chain(self, candidate_solvers, gp=gp,\n\u001b[0;32m--> 659\u001b[0;31m                                        enforce_dpp=enforce_dpp)\n\u001b[0m\u001b[1;32m    660\u001b[0m \u001b[0;34m\u001b[0m\u001b[0m\n\u001b[1;32m    661\u001b[0m     \u001b[0;32mdef\u001b[0m \u001b[0m_invalidate_cache\u001b[0m\u001b[0;34m(\u001b[0m\u001b[0mself\u001b[0m\u001b[0;34m)\u001b[0m\u001b[0;34m:\u001b[0m\u001b[0;34m\u001b[0m\u001b[0;34m\u001b[0m\u001b[0m\n",
      "\u001b[0;32m~/opt/anaconda3/lib/python3.7/site-packages/cvxpy/reductions/solvers/solving_chain.py\u001b[0m in \u001b[0;36mconstruct_solving_chain\u001b[0;34m(problem, candidates, gp, enforce_dpp)\u001b[0m\n\u001b[1;32m    225\u001b[0m                       \"enough constraints in the problem.\" % (\n\u001b[1;32m    226\u001b[0m                           \u001b[0mcandidates\u001b[0m\u001b[0;34m[\u001b[0m\u001b[0;34m'conic_solvers'\u001b[0m\u001b[0;34m]\u001b[0m\u001b[0;34m,\u001b[0m\u001b[0;34m\u001b[0m\u001b[0;34m\u001b[0m\u001b[0m\n\u001b[0;32m--> 227\u001b[0;31m                           \", \".join([cone.__name__ for cone in cones])))\n\u001b[0m\u001b[1;32m    228\u001b[0m \u001b[0;34m\u001b[0m\u001b[0m\n\u001b[1;32m    229\u001b[0m \u001b[0;34m\u001b[0m\u001b[0m\n",
      "\u001b[0;31mSolverError\u001b[0m: Either candidate conic solvers (['GLPK_MI']) do not support the cones output by the problem (SOC, NonNeg), or there are not enough constraints in the problem."
     ]
    }
   ],
   "source": [
    "#from latexify import latexify\n",
    "\n",
    "# Problem data\n",
    "global_indices = list(range(3))\n",
    "local_indices = [\n",
    "    [0, 1, 2],\n",
    "    [0, 1],\n",
    "    [1, 2],\n",
    "    [0, 2],\n",
    "    [0, 2]\n",
    "]\n",
    "\n",
    "reserves = list(map(np.array, [\n",
    "    [3, .2, 1],\n",
    "    [10, 1],\n",
    "    [1, 10],\n",
    "\n",
    "    # Note that there is arbitrage in the next two pools:\n",
    "    [20, 50],\n",
    "    [10, 10]\n",
    "]))\n",
    "\n",
    "fees = np.array([\n",
    "    .98,\n",
    "    .99,\n",
    "    .96,\n",
    "    .97,\n",
    "    .99\n",
    "])\n",
    "\n",
    "delta_max_val = 1000\n",
    "delta_maxs = [np.ones(len(l))*delta_max_val for l in local_indices]\n",
    "\n",
    "current_assets = np.array([\n",
    "        20,\n",
    "        0,\n",
    "        0,\n",
    "    ])\n",
    "\n",
    "amounts = np.linspace(0, 50)\n",
    "\n",
    "u_t = np.zeros(len(amounts))\n",
    "\n",
    "all_values = [np.zeros((len(l), len(amounts))) for l in local_indices]\n",
    "\n",
    "for j, t in enumerate(amounts):\n",
    "\n",
    "    q = np.ones(len(local_indices)) * t\n",
    "\n",
    "    # Build local-global matrices\n",
    "    n = len(global_indices)\n",
    "    m = len(local_indices)\n",
    "\n",
    "    A = []\n",
    "    for l in local_indices:\n",
    "        n_i = len(l)\n",
    "        A_i = np.zeros((n, n_i))\n",
    "        for i, idx in enumerate(l):\n",
    "            A_i[idx, i] = 1\n",
    "        A.append(A_i)\n",
    "\n",
    "    # Build variables\n",
    "    deltas = [cp.Variable(len(l), nonneg=True) for l in local_indices]\n",
    "    lambdas = [cp.Variable(len(l), nonneg=True) for l in local_indices]\n",
    "    etas = cp.Variable(5, boolean=True)\n",
    "\n",
    "    psi = cp.sum([A_i @ (L - D) for A_i, D, L in zip(A, deltas, lambdas)])\n",
    "\n",
    "    # Objective is to trade t of asset 1 for a maximum amount of asset 3\n",
    "    obj = cp.Maximize(psi[2] - q @ etas)\n",
    "\n",
    "    # Reserves after trade\n",
    "    new_reserves = [R + gamma_i*D - L for R, gamma_i, D, L in zip(reserves, fees, deltas, lambdas)]\n",
    "\n",
    "    # Trading function constraints\n",
    "    cons = [\n",
    "        # Balancer pool with weights 3, 2, 1\n",
    "        cp.geo_mean(new_reserves[0], p=np.array([3, 2, 1])) >= cp.geo_mean(reserves[0], p=np.array([3, 2, 1])),\n",
    "\n",
    "        # Uniswap v2 pools\n",
    "        cp.geo_mean(new_reserves[1]) >= cp.geo_mean(reserves[1]),\n",
    "        cp.geo_mean(new_reserves[2]) >= cp.geo_mean(reserves[2]),\n",
    "        cp.geo_mean(new_reserves[3]) >= cp.geo_mean(reserves[3]),\n",
    "\n",
    "        # Constant sum pool\n",
    "        cp.sum(new_reserves[4]) >= cp.sum(reserves[4]),\n",
    "        new_reserves[4] >= 0,\n",
    "\n",
    "        # Allow all assets at hand to be traded\n",
    "        psi + current_assets >= 0\n",
    "    ]\n",
    "\n",
    "    # Add fixed trading cost related constraints\n",
    "    for i, delta_max in enumerate(delta_maxs):\n",
    "        cons.append(deltas[i] <= etas[i] * delta_max)\n",
    "\n",
    "    # Set up and solve problem\n",
    "    prob = cp.Problem(obj, cons)\n",
    "    prob.solve()\n",
    "\n",
    "    for k in range(len(local_indices)):\n",
    "        all_values[k][:, j] = lambdas[k].value - deltas[k].value\n",
    "\n",
    "    # print(f\"Total liquidated value: {psi.value[2]}\")\n",
    "    # for i in range(5):\n",
    "    #     print(f\"Market {i}, delta: {deltas[i].value}, lambda: {lambdas[i].value}\")\n",
    "\n",
    "    u_t[j] = obj.value"
   ]
  },
  {
   "cell_type": "code",
   "execution_count": 16,
   "metadata": {
    "colab": {
     "base_uri": "https://localhost:8080/",
     "height": 541
    },
    "executionInfo": {
     "elapsed": 869,
     "status": "ok",
     "timestamp": 1643149306969,
     "user": {
      "displayName": "Áron Pap",
      "photoUrl": "https://lh3.googleusercontent.com/a/default-user=s64",
      "userId": "01099565232668806024"
     },
     "user_tz": -60
    },
    "id": "mw0xqnRaKRMV",
    "outputId": "7c16c44f-1a83-4234-f367-c8b66cc5a266"
   },
   "outputs": [
    {
     "data": {
      "image/png": "[encoded data removed]",
      "text/plain": [
       "<Figure size 432x288 with 1 Axes>"
      ]
     },
     "metadata": {
      "needs_background": "light"
     },
     "output_type": "display_data"
    },
    {
     "data": {
      "image/png": "[encoded data removed]",
      "text/plain": [
       "<Figure size 432x288 with 1 Axes>"
      ]
     },
     "metadata": {
      "needs_background": "light"
     },
     "output_type": "display_data"
    }
   ],
   "source": [
    "#latexify(fig_width=6, fig_height=3.5)\n",
    "for k in range(len(local_indices)):\n",
    "    curr_value = all_values[k]\n",
    "    for i in range(curr_value.shape[0]):\n",
    "        coin_out = curr_value[i, :]\n",
    "        plt.plot(amounts, coin_out, label=f\"$(\\\\Lambda_{{{k+1}}} - \\\\Delta_{{{k+1}}})_{{{i+1}}}$\")\n",
    "\n",
    "plt.legend(loc='center left', bbox_to_anchor=(1, .5))\n",
    "plt.xlabel(\"Fixed transaction cost of CFMM-s\")\n",
    "#plt.savefig(\"output/all_plot.pdf\", bbox_inches=\"tight\")\n",
    "plt.show()\n",
    "\n",
    "#latexify(fig_width=4, fig_height=3)\n",
    "plt.plot(amounts, u_t, \"k\")\n",
    "plt.ylim([0, np.max(u_t)+2])\n",
    "plt.ylabel(\"$u(t)$\")\n",
    "plt.xlabel(\"Fixed transaction cost of CFMM-s\")\n",
    "#plt.savefig(\"output/u_plot.pdf\", bbox_inches=\"tight\")\n",
    "plt.show()"
   ]
  },
  {
   "cell_type": "markdown",
   "metadata": {
    "id": "i6jsTDONNYIT"
   },
   "source": [
    "## Threshold approach"
   ]
  },
  {
   "cell_type": "code",
   "execution_count": 17,
   "metadata": {
    "colab": {
     "base_uri": "https://localhost:8080/"
    },
    "executionInfo": {
     "elapsed": 632,
     "status": "ok",
     "timestamp": 1643149333106,
     "user": {
      "displayName": "Áron Pap",
      "photoUrl": "https://lh3.googleusercontent.com/a/default-user=s64",
      "userId": "01099565232668806024"
     },
     "user_tz": -60
    },
    "id": "gaAgRsAYLRZr",
    "outputId": "5010fd8a-115c-4668-d236-f69b3e6bec09"
   },
   "outputs": [
    {
     "name": "stdout",
     "output_type": "stream",
     "text": [
      "Total liquidated value: 15.882397517470405\n"
     ]
    }
   ],
   "source": [
    "# Problem data\n",
    "global_indices = list(range(5))\n",
    "local_indices = [\n",
    "    [0, 1, 2, 3, 4],\n",
    "    [0, 1],\n",
    "    [2, 3],\n",
    "    [3, 4],\n",
    "    [3, 4]\n",
    "]\n",
    "\n",
    "reserves = list(map(np.array, [\n",
    "    [4, 4, 4, 4, 4],\n",
    "    [10, 1],\n",
    "    [1, 5],\n",
    "    [40, 50],\n",
    "    [10, 10]\n",
    "]))\n",
    "\n",
    "fees = [\n",
    "    .998,\n",
    "    .997,\n",
    "    .997,\n",
    "    .997,\n",
    "    .999\n",
    "]\n",
    "\n",
    "current_assets = [\n",
    "    2,\n",
    "    1,\n",
    "    3,\n",
    "    5,\n",
    "    10\n",
    "]\n",
    "\n",
    "q = np.array([10, 5, 1, 1, 1]) #np.ones(5)\n",
    "\n",
    "delta_max_val = 1000\n",
    "delta_maxs = [np.ones(len(l))*delta_max_val for l in local_indices]\n",
    "\n",
    "# Build local-global matrices\n",
    "n = len(global_indices)\n",
    "m = len(local_indices)\n",
    "\n",
    "A = []\n",
    "for l in local_indices:\n",
    "    n_i = len(l)\n",
    "    A_i = np.zeros((n, n_i))\n",
    "    for i, idx in enumerate(l):\n",
    "        A_i[idx, i] = 1\n",
    "    A.append(A_i)\n",
    "\n",
    "# Build variables\n",
    "deltas = [cp.Variable(len(l), nonneg=True) for l in local_indices]\n",
    "lambdas = [cp.Variable(len(l), nonneg=True) for l in local_indices]\n",
    "etas = cp.Variable(len(local_indices), nonneg=True)\n",
    "\n",
    "psi = cp.sum([A_i @ (L - D) for A_i, D, L in zip(A, deltas, lambdas)])\n",
    "\n",
    "# Objective is to liquidate everything into token 4\n",
    "obj = cp.Maximize(psi[4] - q @ etas)\n",
    "\n",
    "# Reserves after trade\n",
    "new_reserves = [R + gamma_i*D - L for R, gamma_i, D, L in zip(reserves, fees, deltas, lambdas)]\n",
    "\n",
    "# Trading function constraints\n",
    "cons = [\n",
    "    # Balancer pool with weights 5, 4, 3, 2, 1\n",
    "    cp.geo_mean(new_reserves[0], p=np.array([5, 4, 3, 2, 1])) >= cp.geo_mean(reserves[0]),\n",
    "\n",
    "    # Uniswap v2 pools\n",
    "    cp.geo_mean(new_reserves[1]) >= cp.geo_mean(reserves[1]),\n",
    "    cp.geo_mean(new_reserves[2]) >= cp.geo_mean(reserves[2]),\n",
    "    cp.geo_mean(new_reserves[3]) >= cp.geo_mean(reserves[3]),\n",
    "\n",
    "    # Constant sum pool\n",
    "    cp.sum(new_reserves[4]) >= cp.sum(reserves[4]),\n",
    "    new_reserves[4] >= 0,\n",
    "\n",
    "    # Liquidate all assets, except 4\n",
    "    psi[0] + current_assets[0] == 0,\n",
    "    psi[1] + current_assets[1] == 0,\n",
    "    psi[2] + current_assets[2] == 0,\n",
    "    psi[3] + current_assets[3] == 0\n",
    "]\n",
    "\n",
    "# Add fixed trading cost related constraints\n",
    "for i, delta_max in enumerate(delta_maxs):\n",
    "  cons.append(etas[i] <= 1)\n",
    "  cons.append(deltas[i] <= etas[i] * delta_max)\n",
    "\n",
    "# Set up and solve problem\n",
    "prob = cp.Problem(obj, cons)\n",
    "prob.solve()\n",
    "\n",
    "print(f\"Total liquidated value: {psi.value[4]}\")"
   ]
  },
  {
   "cell_type": "code",
   "execution_count": 18,
   "metadata": {
    "colab": {
     "base_uri": "https://localhost:8080/"
    },
    "executionInfo": {
     "elapsed": 221,
     "status": "ok",
     "timestamp": 1643149334553,
     "user": {
      "displayName": "Áron Pap",
      "photoUrl": "https://lh3.googleusercontent.com/a/default-user=s64",
      "userId": "01099565232668806024"
     },
     "user_tz": -60
    },
    "id": "CfmmBnRtMQ_5",
    "outputId": "67b5b29e-a7d8-4d46-b7f4-5ee6af201ff8"
   },
   "outputs": [
    {
     "data": {
      "text/plain": [
       "array([0.00710426, 0.00104573, 0.00288428, 0.00469064, 0.00710961])"
      ]
     },
     "execution_count": 18,
     "metadata": {},
     "output_type": "execute_result"
    }
   ],
   "source": [
    "etas.value"
   ]
  },
  {
   "cell_type": "code",
   "execution_count": 19,
   "metadata": {
    "colab": {
     "base_uri": "https://localhost:8080/"
    },
    "executionInfo": {
     "elapsed": 5,
     "status": "ok",
     "timestamp": 1643149335597,
     "user": {
      "displayName": "Áron Pap",
      "photoUrl": "https://lh3.googleusercontent.com/a/default-user=s64",
      "userId": "01099565232668806024"
     },
     "user_tz": -60
    },
    "id": "-xMh6FqGMWNR",
    "outputId": "af69fdca-a87b-4bb2-95c1-14109032e057"
   },
   "outputs": [
    {
     "name": "stdout",
     "output_type": "stream",
     "text": [
      "[1 0 0 0 1]\n"
     ]
    }
   ],
   "source": [
    "threshold = 0.005\n",
    "etas = (etas.value > threshold).astype(int)\n",
    "print(etas)"
   ]
  },
  {
   "cell_type": "code",
   "execution_count": 20,
   "metadata": {
    "colab": {
     "base_uri": "https://localhost:8080/"
    },
    "executionInfo": {
     "elapsed": 359,
     "status": "ok",
     "timestamp": 1643149337039,
     "user": {
      "displayName": "Áron Pap",
      "photoUrl": "https://lh3.googleusercontent.com/a/default-user=s64",
      "userId": "01099565232668806024"
     },
     "user_tz": -60
    },
    "id": "GMQd--kiNAVd",
    "outputId": "36d7cdcd-1768-430e-81be-8943a221775f"
   },
   "outputs": [
    {
     "name": "stdout",
     "output_type": "stream",
     "text": [
      "Total liquidated value: 11.355860274783845\n"
     ]
    }
   ],
   "source": [
    "# Problem data\n",
    "global_indices = list(range(5))\n",
    "local_indices = [\n",
    "    [0, 1, 2, 3, 4],\n",
    "    [0, 1],\n",
    "    [2, 3],\n",
    "    [3, 4],\n",
    "    [3, 4]\n",
    "]\n",
    "\n",
    "reserves = list(map(np.array, [\n",
    "    [4, 4, 4, 4, 4],\n",
    "    [10, 1],\n",
    "    [1, 5],\n",
    "    [40, 50],\n",
    "    [10, 10]\n",
    "]))\n",
    "\n",
    "fees = [\n",
    "    .998,\n",
    "    .997,\n",
    "    .997,\n",
    "    .997,\n",
    "    .999\n",
    "]\n",
    "\n",
    "current_assets = [\n",
    "    2,\n",
    "    1,\n",
    "    3,\n",
    "    5,\n",
    "    10\n",
    "]\n",
    "\n",
    "q = np.array([10, 5, 1, 1, 1]) #np.ones(5)\n",
    "\n",
    "delta_max_val = 1000\n",
    "delta_maxs = [np.ones(len(l))*delta_max_val for l in local_indices]\n",
    "\n",
    "# Build local-global matrices\n",
    "n = len(global_indices)\n",
    "m = len(local_indices)\n",
    "\n",
    "A = []\n",
    "for l in local_indices:\n",
    "    n_i = len(l)\n",
    "    A_i = np.zeros((n, n_i))\n",
    "    for i, idx in enumerate(l):\n",
    "        A_i[idx, i] = 1\n",
    "    A.append(A_i)\n",
    "\n",
    "# Build variables\n",
    "deltas = [cp.Variable(len(l), nonneg=True) for l in local_indices]\n",
    "lambdas = [cp.Variable(len(l), nonneg=True) for l in local_indices]\n",
    "# etas = cp.Variable(len(local_indices), nonneg=True)\n",
    "\n",
    "psi = cp.sum([A_i @ (L - D) for A_i, D, L in zip(A, deltas, lambdas)])\n",
    "\n",
    "# Objective is to liquidate everything into token 4\n",
    "obj = cp.Maximize(psi[4] - q @ etas)\n",
    "\n",
    "# Reserves after trade\n",
    "new_reserves = [R + gamma_i*D - L for R, gamma_i, D, L in zip(reserves, fees, deltas, lambdas)]\n",
    "\n",
    "# Trading function constraints\n",
    "cons = [\n",
    "    # Balancer pool with weights 5, 4, 3, 2, 1\n",
    "    cp.geo_mean(new_reserves[0], p=np.array([5, 4, 3, 2, 1])) >= cp.geo_mean(reserves[0]),\n",
    "\n",
    "    # Uniswap v2 pools\n",
    "    cp.geo_mean(new_reserves[1]) >= cp.geo_mean(reserves[1]),\n",
    "    cp.geo_mean(new_reserves[2]) >= cp.geo_mean(reserves[2]),\n",
    "    cp.geo_mean(new_reserves[3]) >= cp.geo_mean(reserves[3]),\n",
    "\n",
    "    # Constant sum pool\n",
    "    cp.sum(new_reserves[4]) >= cp.sum(reserves[4]),\n",
    "    new_reserves[4] >= 0,\n",
    "\n",
    "    # Liquidate all assets, except 4\n",
    "    psi[0] + current_assets[0] == 0,\n",
    "    psi[1] + current_assets[1] == 0,\n",
    "    psi[2] + current_assets[2] == 0,\n",
    "    psi[3] + current_assets[3] == 0\n",
    "]\n",
    "\n",
    "# Add fixed trading cost related constraints\n",
    "for i, delta_max in enumerate(delta_maxs):\n",
    "  # cons.append(etas[i] <= 1)\n",
    "  cons.append(deltas[i] <= etas[i] * delta_max)\n",
    "\n",
    "# Set up and solve problem\n",
    "prob = cp.Problem(obj, cons)\n",
    "prob.solve()\n",
    "\n",
    "print(f\"Total liquidated value: {psi.value[4]}\")"
   ]
  },
  {
   "cell_type": "markdown",
   "metadata": {
    "id": "atYC6BzeNRWj"
   },
   "source": [
    "## Randomized approach"
   ]
  },
  {
   "cell_type": "code",
   "execution_count": 21,
   "metadata": {
    "colab": {
     "base_uri": "https://localhost:8080/"
    },
    "executionInfo": {
     "elapsed": 4,
     "status": "ok",
     "timestamp": 1643149339177,
     "user": {
      "displayName": "Áron Pap",
      "photoUrl": "https://lh3.googleusercontent.com/a/default-user=s64",
      "userId": "01099565232668806024"
     },
     "user_tz": -60
    },
    "id": "oahuIPYvNOTo",
    "outputId": "f5255347-2b4f-4270-c950-c43146c6fdf1"
   },
   "outputs": [
    {
     "name": "stdout",
     "output_type": "stream",
     "text": [
      "Total liquidated value: 14.568855372410336\n"
     ]
    },
    {
     "name": "stderr",
     "output_type": "stream",
     "text": [
      "/Users/MacBook/opt/anaconda3/lib/python3.7/site-packages/cvxpy/problems/problem.py:1061: UserWarning: Solution may be inaccurate. Try another solver, adjusting the solver settings, or solve with verbose=True for more information.\n",
      "  \"Solution may be inaccurate. Try another solver, \"\n"
     ]
    }
   ],
   "source": [
    "# Problem data\n",
    "global_indices = list(range(5))\n",
    "local_indices = [\n",
    "    [0, 1, 2, 3, 4],\n",
    "    [0, 1],\n",
    "    [2, 3],\n",
    "    [3, 4],\n",
    "    [3, 4]\n",
    "]\n",
    "\n",
    "reserves = list(map(np.array, [\n",
    "    [4, 4, 4, 4, 4],\n",
    "    [10, 1],\n",
    "    [1, 5],\n",
    "    [40, 50],\n",
    "    [10, 10]\n",
    "]))\n",
    "\n",
    "fees = [\n",
    "    .998,\n",
    "    .997,\n",
    "    .997,\n",
    "    .997,\n",
    "    .999\n",
    "]\n",
    "\n",
    "current_assets = [\n",
    "    2,\n",
    "    1,\n",
    "    3,\n",
    "    5,\n",
    "    10\n",
    "]\n",
    "\n",
    "q = np.array([10, 5, 1, 1, 1]) #np.ones(5)\n",
    "\n",
    "delta_max_val = 10\n",
    "delta_maxs = [np.ones(len(l))*delta_max_val for l in local_indices]\n",
    "\n",
    "# Build local-global matrices\n",
    "n = len(global_indices)\n",
    "m = len(local_indices)\n",
    "\n",
    "A = []\n",
    "for l in local_indices:\n",
    "    n_i = len(l)\n",
    "    A_i = np.zeros((n, n_i))\n",
    "    for i, idx in enumerate(l):\n",
    "        A_i[idx, i] = 1\n",
    "    A.append(A_i)\n",
    "\n",
    "# Build variables\n",
    "deltas = [cp.Variable(len(l), nonneg=True) for l in local_indices]\n",
    "lambdas = [cp.Variable(len(l), nonneg=True) for l in local_indices]\n",
    "etas = cp.Variable(len(local_indices), nonneg=True)\n",
    "\n",
    "psi = cp.sum([A_i @ (L - D) for A_i, D, L in zip(A, deltas, lambdas)])\n",
    "\n",
    "# Objective is to liquidate everything into token 4\n",
    "obj = cp.Maximize(psi[4] - q @ etas)\n",
    "\n",
    "# Reserves after trade\n",
    "new_reserves = [R + gamma_i*D - L for R, gamma_i, D, L in zip(reserves, fees, deltas, lambdas)]\n",
    "\n",
    "# Trading function constraints\n",
    "cons = [\n",
    "    # Balancer pool with weights 5, 4, 3, 2, 1\n",
    "    cp.geo_mean(new_reserves[0], p=np.array([5, 4, 3, 2, 1])) >= cp.geo_mean(reserves[0]),\n",
    "\n",
    "    # Uniswap v2 pools\n",
    "    cp.geo_mean(new_reserves[1]) >= cp.geo_mean(reserves[1]),\n",
    "    cp.geo_mean(new_reserves[2]) >= cp.geo_mean(reserves[2]),\n",
    "    cp.geo_mean(new_reserves[3]) >= cp.geo_mean(reserves[3]),\n",
    "\n",
    "    # Constant sum pool\n",
    "    cp.sum(new_reserves[4]) >= cp.sum(reserves[4]),\n",
    "    new_reserves[4] >= 0,\n",
    "\n",
    "    # Liquidate all assets, except 4\n",
    "    psi[0] + current_assets[0] == 0,\n",
    "    psi[1] + current_assets[1] == 0,\n",
    "    psi[2] + current_assets[2] == 0,\n",
    "    psi[3] + current_assets[3] == 0\n",
    "]\n",
    "\n",
    "# Add fixed trading cost related constraints\n",
    "for i, delta_max in enumerate(delta_maxs):\n",
    "  cons.append(etas[i] <= 1)\n",
    "  cons.append(deltas[i] <= etas[i] * delta_max)\n",
    "\n",
    "# Set up and solve problem\n",
    "prob = cp.Problem(obj, cons)\n",
    "prob.solve()\n",
    "\n",
    "print(f\"Total liquidated value: {psi.value[4]}\")"
   ]
  },
  {
   "cell_type": "code",
   "execution_count": 22,
   "metadata": {
    "colab": {
     "base_uri": "https://localhost:8080/"
    },
    "executionInfo": {
     "elapsed": 3,
     "status": "ok",
     "timestamp": 1643149340461,
     "user": {
      "displayName": "Áron Pap",
      "photoUrl": "https://lh3.googleusercontent.com/a/default-user=s64",
      "userId": "01099565232668806024"
     },
     "user_tz": -60
    },
    "id": "cNiamKv0NSBs",
    "outputId": "2985c0ff-26a4-4789-869b-af6d84957db2"
   },
   "outputs": [
    {
     "data": {
      "text/plain": [
       "array([1.99999994e-01, 5.66140830e-09, 1.94907327e-01, 4.69062830e-01,\n",
       "       6.04488391e-01])"
      ]
     },
     "execution_count": 22,
     "metadata": {},
     "output_type": "execute_result"
    }
   ],
   "source": [
    "etas.value"
   ]
  },
  {
   "cell_type": "code",
   "execution_count": 23,
   "metadata": {
    "colab": {
     "base_uri": "https://localhost:8080/"
    },
    "executionInfo": {
     "elapsed": 5,
     "status": "ok",
     "timestamp": 1643149342962,
     "user": {
      "displayName": "Áron Pap",
      "photoUrl": "https://lh3.googleusercontent.com/a/default-user=s64",
      "userId": "01099565232668806024"
     },
     "user_tz": -60
    },
    "id": "UKUhqd6aNTGY",
    "outputId": "76e2bd2c-9a5c-4479-9782-4c96a793558a"
   },
   "outputs": [
    {
     "data": {
      "text/plain": [
       "array([1, 0, 0, 1, 0])"
      ]
     },
     "execution_count": 23,
     "metadata": {},
     "output_type": "execute_result"
    }
   ],
   "source": [
    "etas = np.array([np.random.choice([0, 1], p = [1-i, i]) for i in etas.value])\n",
    "etas"
   ]
  },
  {
   "cell_type": "code",
   "execution_count": 24,
   "metadata": {
    "colab": {
     "base_uri": "https://localhost:8080/",
     "height": 201
    },
    "executionInfo": {
     "elapsed": 368,
     "status": "error",
     "timestamp": 1643149345218,
     "user": {
      "displayName": "Áron Pap",
      "photoUrl": "https://lh3.googleusercontent.com/a/default-user=s64",
      "userId": "01099565232668806024"
     },
     "user_tz": -60
    },
    "id": "NgbWWUfyN3D_",
    "outputId": "276b03cc-352f-4834-f3d6-483cca991f06"
   },
   "outputs": [
    {
     "name": "stdout",
     "output_type": "stream",
     "text": [
      "Total liquidated value: 11.69148860735171\n"
     ]
    }
   ],
   "source": [
    "# Problem data\n",
    "global_indices = list(range(5))\n",
    "local_indices = [\n",
    "    [0, 1, 2, 3, 4],\n",
    "    [0, 1],\n",
    "    [2, 3],\n",
    "    [3, 4],\n",
    "    [3, 4]\n",
    "]\n",
    "\n",
    "reserves = list(map(np.array, [\n",
    "    [4, 4, 4, 4, 4],\n",
    "    [10, 1],\n",
    "    [1, 5],\n",
    "    [40, 50],\n",
    "    [10, 10]\n",
    "]))\n",
    "\n",
    "fees = [\n",
    "    .998,\n",
    "    .997,\n",
    "    .997,\n",
    "    .997,\n",
    "    .999\n",
    "]\n",
    "\n",
    "current_assets = [\n",
    "    2,\n",
    "    1,\n",
    "    3,\n",
    "    5,\n",
    "    10\n",
    "]\n",
    "\n",
    "q = np.array([10, 5, 1, 1, 1]) #np.ones(5)\n",
    "\n",
    "delta_max_val = 1000\n",
    "delta_maxs = [np.ones(len(l))*delta_max_val for l in local_indices]\n",
    "\n",
    "# Build local-global matrices\n",
    "n = len(global_indices)\n",
    "m = len(local_indices)\n",
    "\n",
    "A = []\n",
    "for l in local_indices:\n",
    "    n_i = len(l)\n",
    "    A_i = np.zeros((n, n_i))\n",
    "    for i, idx in enumerate(l):\n",
    "        A_i[idx, i] = 1\n",
    "    A.append(A_i)\n",
    "\n",
    "# Build variables\n",
    "deltas = [cp.Variable(len(l), nonneg=True) for l in local_indices]\n",
    "lambdas = [cp.Variable(len(l), nonneg=True) for l in local_indices]\n",
    "# etas = cp.Variable(len(local_indices), nonneg=True)\n",
    "\n",
    "psi = cp.sum([A_i @ (L - D) for A_i, D, L in zip(A, deltas, lambdas)])\n",
    "\n",
    "# Objective is to liquidate everything into token 4\n",
    "obj = cp.Maximize(psi[4] - q @ etas)\n",
    "\n",
    "# Reserves after trade\n",
    "new_reserves = [R + gamma_i*D - L for R, gamma_i, D, L in zip(reserves, fees, deltas, lambdas)]\n",
    "\n",
    "# Trading function constraints\n",
    "cons = [\n",
    "    # Balancer pool with weights 5, 4, 3, 2, 1\n",
    "    cp.geo_mean(new_reserves[0], p=np.array([5, 4, 3, 2, 1])) >= cp.geo_mean(reserves[0]),\n",
    "\n",
    "    # Uniswap v2 pools\n",
    "    cp.geo_mean(new_reserves[1]) >= cp.geo_mean(reserves[1]),\n",
    "    cp.geo_mean(new_reserves[2]) >= cp.geo_mean(reserves[2]),\n",
    "    cp.geo_mean(new_reserves[3]) >= cp.geo_mean(reserves[3]),\n",
    "\n",
    "    # Constant sum pool\n",
    "    cp.sum(new_reserves[4]) >= cp.sum(reserves[4]),\n",
    "    new_reserves[4] >= 0,\n",
    "\n",
    "    # Liquidate all assets, except 4\n",
    "    psi[0] + current_assets[0] == 0,\n",
    "    psi[1] + current_assets[1] == 0,\n",
    "    psi[2] + current_assets[2] == 0,\n",
    "    psi[3] + current_assets[3] == 0\n",
    "]\n",
    "\n",
    "# Add fixed trading cost related constraints\n",
    "for i, delta_max in enumerate(delta_maxs):\n",
    "  # cons.append(etas[i] <= 1)\n",
    "  cons.append(deltas[i] <= etas[i] * delta_max)\n",
    "\n",
    "# Set up and solve problem\n",
    "prob = cp.Problem(obj, cons)\n",
    "prob.solve()\n",
    "\n",
    "print(f\"Total liquidated value: {psi.value[4]}\")"
   ]
  },
  {
   "cell_type": "code",
   "execution_count": 25,
   "metadata": {
    "executionInfo": {
     "elapsed": 3,
     "status": "ok",
     "timestamp": 1643149346035,
     "user": {
      "displayName": "Áron Pap",
      "photoUrl": "https://lh3.googleusercontent.com/a/default-user=s64",
      "userId": "01099565232668806024"
     },
     "user_tz": -60
    },
    "id": "MTlIP_SgONk3"
   },
   "outputs": [
    {
     "data": {
      "text/plain": [
       "array([-2.        , -1.        , -3.        , -5.        , 11.69148861])"
      ]
     },
     "execution_count": 25,
     "metadata": {},
     "output_type": "execute_result"
    }
   ],
   "source": [
    "psi.value"
   ]
  },
  {
   "cell_type": "code",
   "execution_count": 26,
   "metadata": {
    "colab": {
     "base_uri": "https://localhost:8080/"
    },
    "executionInfo": {
     "elapsed": 287,
     "status": "ok",
     "timestamp": 1640966654128,
     "user": {
      "displayName": "Áron Pap",
      "photoUrl": "https://lh3.googleusercontent.com/a/default-user=s64",
      "userId": "01099565232668806024"
     },
     "user_tz": -60
    },
    "id": "c7tet-MpOSeH",
    "outputId": "5b27ff70-2f3e-439c-a749-f072845db064"
   },
   "outputs": [
    {
     "data": {
      "text/plain": [
       "0.6914886073517117"
      ]
     },
     "execution_count": 26,
     "metadata": {},
     "output_type": "execute_result"
    }
   ],
   "source": [
    "prob.value"
   ]
  },
  {
   "cell_type": "code",
   "execution_count": null,
   "metadata": {
    "id": "8QXV04VSOWLX"
   },
   "outputs": [],
   "source": []
  }
 ],
 "metadata": {
  "colab": {
   "authorship_tag": "ABX9TyMn04jHj+alBYnNCkwXujXh",
   "collapsed_sections": [],
   "name": "cfmm_routing.ipynb",
   "provenance": [],
   "toc_visible": true
  },
  "kernelspec": {
   "display_name": "Python 3",
   "language": "python",
   "name": "python3"
  },
  "language_info": {
   "codemirror_mode": {
    "name": "ipython",
    "version": 3
   },
   "file_extension": ".py",
   "mimetype": "text/x-python",
   "name": "python",
   "nbconvert_exporter": "python",
   "pygments_lexer": "ipython3",
   "version": "3.7.4"
  },
  "toc": {
   "base_numbering": 1,
   "nav_menu": {},
   "number_sections": true,
   "sideBar": true,
   "skip_h1_title": false,
   "title_cell": "Table of Contents",
   "title_sidebar": "Contents",
   "toc_cell": false,
   "toc_position": {},
   "toc_section_display": true,
   "toc_window_display": true
  }
 },
 "nbformat": 4,
 "nbformat_minor": 1
}
