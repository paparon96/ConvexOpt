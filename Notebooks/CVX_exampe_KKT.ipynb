{
 "cells": [
  {
   "cell_type": "markdown",
   "metadata": {},
   "source": [
    "# Import packages"
   ]
  },
  {
   "cell_type": "code",
   "execution_count": 1,
   "metadata": {},
   "outputs": [],
   "source": [
    "import pandas as pd\n",
    "import numpy as np\n",
    "#import cvxopt\n",
    "import cvxpy as cp\n",
    "\n",
    "import matplotlib.pyplot as plt"
   ]
  },
  {
   "cell_type": "markdown",
   "metadata": {},
   "source": [
    "# Create toy dataset"
   ]
  },
  {
   "cell_type": "code",
   "execution_count": 2,
   "metadata": {},
   "outputs": [],
   "source": [
    "# Problem dimensions\n",
    "n = 10\n",
    "m_var = 0.01"
   ]
  },
  {
   "cell_type": "code",
   "execution_count": 3,
   "metadata": {},
   "outputs": [
    {
     "name": "stdout",
     "output_type": "stream",
     "text": [
      "[0.12491694 0.02916595 0.08120811 0.03769151 0.13048453 0.12004541\n",
      " 0.07679445 0.10572404 0.1483747  0.14559436]\n",
      "1.0\n"
     ]
    }
   ],
   "source": [
    "# Weights\n",
    "w = np.random.uniform(size=n)\n",
    "w /= np.sum(w)\n",
    "\n",
    "print(w)\n",
    "print(np.sum(w))"
   ]
  },
  {
   "cell_type": "code",
   "execution_count": 4,
   "metadata": {},
   "outputs": [],
   "source": [
    "# Overall separation rate calibrated by the model\n",
    "overall_lambda = 0.1"
   ]
  },
  {
   "cell_type": "code",
   "execution_count": 5,
   "metadata": {},
   "outputs": [
    {
     "name": "stdout",
     "output_type": "stream",
     "text": [
      "[0.10122705 0.09677575 0.08570268 0.10276224 0.09348407 0.09199016\n",
      " 0.10700748 0.09010938 0.09174794 0.10143809]\n"
     ]
    }
   ],
   "source": [
    "# CIPD relative spearation rate estimates\n",
    "m = np.random.normal(overall_lambda,m_var,n)\n",
    "m = np.asarray([i if i>0 else 0.001 for i in m])\n",
    "\n",
    "print(m)"
   ]
  },
  {
   "cell_type": "markdown",
   "metadata": {},
   "source": [
    "# Optimization step"
   ]
  },
  {
   "cell_type": "code",
   "execution_count": 6,
   "metadata": {},
   "outputs": [],
   "source": [
    "# Initialize matrix\n",
    "KKTM = np.zeros((n+1,n+1))"
   ]
  },
  {
   "cell_type": "code",
   "execution_count": 7,
   "metadata": {},
   "outputs": [
    {
     "name": "stdout",
     "output_type": "stream",
     "text": [
      "[[1. 0. 0. 0. 0. 0. 0. 0. 0. 0.]\n",
      " [0. 1. 0. 0. 0. 0. 0. 0. 0. 0.]\n",
      " [0. 0. 1. 0. 0. 0. 0. 0. 0. 0.]\n",
      " [0. 0. 0. 1. 0. 0. 0. 0. 0. 0.]\n",
      " [0. 0. 0. 0. 1. 0. 0. 0. 0. 0.]\n",
      " [0. 0. 0. 0. 0. 1. 0. 0. 0. 0.]\n",
      " [0. 0. 0. 0. 0. 0. 1. 0. 0. 0.]\n",
      " [0. 0. 0. 0. 0. 0. 0. 1. 0. 0.]\n",
      " [0. 0. 0. 0. 0. 0. 0. 0. 1. 0.]\n",
      " [0. 0. 0. 0. 0. 0. 0. 0. 0. 1.]]\n"
     ]
    }
   ],
   "source": [
    "# Create matrix blocks\n",
    "KKTM11 = np.zeros((n,n))\n",
    "np.fill_diagonal(KKTM11, 1)\n",
    "\n",
    "print(KKTM11)\n"
   ]
  },
  {
   "cell_type": "code",
   "execution_count": 8,
   "metadata": {},
   "outputs": [
    {
     "name": "stdout",
     "output_type": "stream",
     "text": [
      "[[ 1.          0.          0.          0.          0.          0.\n",
      "   0.          0.          0.          0.         -0.06245847]\n",
      " [ 0.          1.          0.          0.          0.          0.\n",
      "   0.          0.          0.          0.         -0.01458298]\n",
      " [ 0.          0.          1.          0.          0.          0.\n",
      "   0.          0.          0.          0.         -0.04060406]\n",
      " [ 0.          0.          0.          1.          0.          0.\n",
      "   0.          0.          0.          0.         -0.01884576]\n",
      " [ 0.          0.          0.          0.          1.          0.\n",
      "   0.          0.          0.          0.         -0.06524227]\n",
      " [ 0.          0.          0.          0.          0.          1.\n",
      "   0.          0.          0.          0.         -0.0600227 ]\n",
      " [ 0.          0.          0.          0.          0.          0.\n",
      "   1.          0.          0.          0.         -0.03839723]\n",
      " [ 0.          0.          0.          0.          0.          0.\n",
      "   0.          1.          0.          0.         -0.05286202]\n",
      " [ 0.          0.          0.          0.          0.          0.\n",
      "   0.          0.          1.          0.         -0.07418735]\n",
      " [ 0.          0.          0.          0.          0.          0.\n",
      "   0.          0.          0.          1.         -0.07279718]\n",
      " [ 0.12491694  0.02916595  0.08120811  0.03769151  0.13048453  0.12004541\n",
      "   0.07679445  0.10572404  0.1483747   0.14559436  0.        ]]\n"
     ]
    }
   ],
   "source": [
    "# Assign blocks to the KKT matrix\n",
    "KKTM[:n,:n] = KKTM11\n",
    "KKTM[n,:n] = w\n",
    "KKTM[:n,n] = (-1/2)*w\n",
    "\n",
    "print(KKTM)"
   ]
  },
  {
   "cell_type": "code",
   "execution_count": 9,
   "metadata": {},
   "outputs": [
    {
     "name": "stdout",
     "output_type": "stream",
     "text": [
      "[0.10122705 0.09677575 0.08570268 0.10276224 0.09348407 0.09199016\n",
      " 0.10700748 0.09010938 0.09174794 0.10143809 0.1       ]\n"
     ]
    }
   ],
   "source": [
    "# Get target\n",
    "target = np.append(m,overall_lambda)\n",
    "\n",
    "print(target)"
   ]
  },
  {
   "cell_type": "code",
   "execution_count": 10,
   "metadata": {},
   "outputs": [],
   "source": [
    "# Estimate the solution\n",
    "sol_est = np.linalg.inv(KKTM)@target"
   ]
  },
  {
   "cell_type": "code",
   "execution_count": 11,
   "metadata": {},
   "outputs": [],
   "source": [
    "# Unpack the solution\n",
    "x = sol_est[:n]\n",
    "mu = sol_est[n]"
   ]
  },
  {
   "cell_type": "code",
   "execution_count": 12,
   "metadata": {},
   "outputs": [
    {
     "name": "stdout",
     "output_type": "stream",
     "text": [
      "Estimated overall mean (weighted average): 0.09999999999999999\n"
     ]
    }
   ],
   "source": [
    "print(\"Estimated overall mean (weighted average): {}\".format(np.dot(x,w)))"
   ]
  },
  {
   "cell_type": "code",
   "execution_count": 13,
   "metadata": {},
   "outputs": [
    {
     "data": {
      "image/png": "[encoded data removed]",
      "text/plain": [
       "<Figure size 432x288 with 1 Axes>"
      ]
     },
     "metadata": {
      "needs_background": "light"
     },
     "output_type": "display_data"
    }
   ],
   "source": [
    "plt.scatter(m,x,label=\"estimated datapoints\")\n",
    "plt.plot(m,m,c='red',label=\"identity line\")\n",
    "plt.xlabel(\"CIPD separation rates\")\n",
    "plt.ylabel(\"Estimated separation rates\")\n",
    "plt.legend(loc='upper left')\n",
    "\n",
    "plt.show()"
   ]
  },
  {
   "cell_type": "markdown",
   "metadata": {},
   "source": [
    "# CVXPY optimization"
   ]
  },
  {
   "cell_type": "code",
   "execution_count": 14,
   "metadata": {},
   "outputs": [
    {
     "name": "stdout",
     "output_type": "stream",
     "text": [
      "\n",
      "The optimal value is 0.00016150882732076434\n",
      "A solution x is\n",
      "[0.10588425 0.09786312 0.08873031 0.10416747 0.09834885 0.09646575\n",
      " 0.10987056 0.09405103 0.09727971 0.1068662 ]\n",
      "A dual solution corresponding to the inequality constraints is\n",
      "[0. 0. 0. 0. 0. 0. 0. 0. 0. 0.]\n"
     ]
    }
   ],
   "source": [
    "# Define and solve the CVXPY problem.\n",
    "x = cp.Variable(n)\n",
    "cost = cp.sum_squares(x - m)\n",
    "\n",
    "# Define arrays for optimization\n",
    "G = - KKTM11\n",
    "h = np.zeros(n)\n",
    "b = overall_lambda\n",
    "A = w\n",
    "\n",
    "prob = cp.Problem(cp.Minimize(cost),\n",
    "                 [G @ x <= h,\n",
    "                  A @ x == b])\n",
    "prob.solve()\n",
    "\n",
    "# Print result.\n",
    "print(\"\\nThe optimal value is\", prob.value)\n",
    "print(\"A solution x is\")\n",
    "print(x.value)\n",
    "print(\"A dual solution corresponding to the inequality constraints is\")\n",
    "print(prob.constraints[0].dual_value)"
   ]
  },
  {
   "cell_type": "code",
   "execution_count": 15,
   "metadata": {},
   "outputs": [
    {
     "data": {
      "image/png": "[encoded data removed]",
      "text/plain": [
       "<Figure size 432x288 with 1 Axes>"
      ]
     },
     "metadata": {
      "needs_background": "light"
     },
     "output_type": "display_data"
    }
   ],
   "source": [
    "plt.scatter(m,x.value,label=\"estimated datapoints (CVXPY)\")\n",
    "plt.plot(m,m,c='red',label=\"identity line\")\n",
    "plt.xlabel(\"CIPD separation rates\")\n",
    "plt.ylabel(\"Estimated separation rates\")\n",
    "plt.legend(loc='upper left')\n",
    "\n",
    "plt.show()"
   ]
  },
  {
   "cell_type": "code",
   "execution_count": null,
   "metadata": {},
   "outputs": [],
   "source": []
  }
 ],
 "metadata": {
  "kernelspec": {
   "display_name": "Python 3",
   "language": "python",
   "name": "python3"
  },
  "language_info": {
   "codemirror_mode": {
    "name": "ipython",
    "version": 3
   },
   "file_extension": ".py",
   "mimetype": "text/x-python",
   "name": "python",
   "nbconvert_exporter": "python",
   "pygments_lexer": "ipython3",
   "version": "3.7.4"
  },
  "toc": {
   "base_numbering": 1,
   "nav_menu": {},
   "number_sections": true,
   "sideBar": true,
   "skip_h1_title": false,
   "title_cell": "Table of Contents",
   "title_sidebar": "Contents",
   "toc_cell": false,
   "toc_position": {},
   "toc_section_display": true,
   "toc_window_display": true
  }
 },
 "nbformat": 4,
 "nbformat_minor": 2
}
